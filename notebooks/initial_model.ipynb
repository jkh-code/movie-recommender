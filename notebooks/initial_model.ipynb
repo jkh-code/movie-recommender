{
 "cells": [
  {
   "cell_type": "code",
   "execution_count": 93,
   "id": "d0e3c0dd",
   "metadata": {},
   "outputs": [],
   "source": [
    "import pandas as pd\n",
    "from surprise import SVD, SVDpp\n",
    "from surprise import Dataset\n",
    "from surprise.model_selection import cross_validate\n",
    "from surprise import accuracy\n",
    "from surprise.model_selection import train_test_split\n",
    "from surprise import NormalPredictor\n",
    "from surprise import Reader\n",
    "from surprise.prediction_algorithms.knns import KNNBasic\n",
    "from surprise.prediction_algorithms.matrix_factorization import NMF\n",
    "import sys\n",
    "sys.path.append(\"./../\")\n",
    "from src.utils import percentileMetric\n",
    "from surprise.prediction_algorithms.co_clustering import CoClustering"
   ]
  },
  {
   "cell_type": "code",
   "execution_count": 21,
   "id": "35202009",
   "metadata": {},
   "outputs": [],
   "source": [
    "training = pd.read_csv('../data/training.csv')"
   ]
  },
  {
   "cell_type": "code",
   "execution_count": 24,
   "id": "7d15b437",
   "metadata": {},
   "outputs": [],
   "source": [
    "training.drop(columns='timestamp', inplace=True)"
   ]
  },
  {
   "cell_type": "code",
   "execution_count": 25,
   "id": "4c2f06a1",
   "metadata": {},
   "outputs": [
    {
     "data": {
      "text/html": [
       "<div>\n",
       "<style scoped>\n",
       "    .dataframe tbody tr th:only-of-type {\n",
       "        vertical-align: middle;\n",
       "    }\n",
       "\n",
       "    .dataframe tbody tr th {\n",
       "        vertical-align: top;\n",
       "    }\n",
       "\n",
       "    .dataframe thead th {\n",
       "        text-align: right;\n",
       "    }\n",
       "</style>\n",
       "<table border=\"1\" class=\"dataframe\">\n",
       "  <thead>\n",
       "    <tr style=\"text-align: right;\">\n",
       "      <th></th>\n",
       "      <th>user</th>\n",
       "      <th>movie</th>\n",
       "      <th>rating</th>\n",
       "    </tr>\n",
       "  </thead>\n",
       "  <tbody>\n",
       "    <tr>\n",
       "      <th>0</th>\n",
       "      <td>6040</td>\n",
       "      <td>858</td>\n",
       "      <td>4</td>\n",
       "    </tr>\n",
       "    <tr>\n",
       "      <th>1</th>\n",
       "      <td>6040</td>\n",
       "      <td>593</td>\n",
       "      <td>5</td>\n",
       "    </tr>\n",
       "    <tr>\n",
       "      <th>2</th>\n",
       "      <td>6040</td>\n",
       "      <td>2384</td>\n",
       "      <td>4</td>\n",
       "    </tr>\n",
       "    <tr>\n",
       "      <th>3</th>\n",
       "      <td>6040</td>\n",
       "      <td>1961</td>\n",
       "      <td>4</td>\n",
       "    </tr>\n",
       "    <tr>\n",
       "      <th>4</th>\n",
       "      <td>6040</td>\n",
       "      <td>2019</td>\n",
       "      <td>5</td>\n",
       "    </tr>\n",
       "    <tr>\n",
       "      <th>...</th>\n",
       "      <td>...</td>\n",
       "      <td>...</td>\n",
       "      <td>...</td>\n",
       "    </tr>\n",
       "    <tr>\n",
       "      <th>799995</th>\n",
       "      <td>1875</td>\n",
       "      <td>2940</td>\n",
       "      <td>5</td>\n",
       "    </tr>\n",
       "    <tr>\n",
       "      <th>799996</th>\n",
       "      <td>1875</td>\n",
       "      <td>589</td>\n",
       "      <td>4</td>\n",
       "    </tr>\n",
       "    <tr>\n",
       "      <th>799997</th>\n",
       "      <td>1875</td>\n",
       "      <td>110</td>\n",
       "      <td>4</td>\n",
       "    </tr>\n",
       "    <tr>\n",
       "      <th>799998</th>\n",
       "      <td>1875</td>\n",
       "      <td>2791</td>\n",
       "      <td>3</td>\n",
       "    </tr>\n",
       "    <tr>\n",
       "      <th>799999</th>\n",
       "      <td>1875</td>\n",
       "      <td>2948</td>\n",
       "      <td>5</td>\n",
       "    </tr>\n",
       "  </tbody>\n",
       "</table>\n",
       "<p>800000 rows × 3 columns</p>\n",
       "</div>"
      ],
      "text/plain": [
       "        user  movie  rating\n",
       "0       6040    858       4\n",
       "1       6040    593       5\n",
       "2       6040   2384       4\n",
       "3       6040   1961       4\n",
       "4       6040   2019       5\n",
       "...      ...    ...     ...\n",
       "799995  1875   2940       5\n",
       "799996  1875    589       4\n",
       "799997  1875    110       4\n",
       "799998  1875   2791       3\n",
       "799999  1875   2948       5\n",
       "\n",
       "[800000 rows x 3 columns]"
      ]
     },
     "execution_count": 25,
     "metadata": {},
     "output_type": "execute_result"
    }
   ],
   "source": [
    "training"
   ]
  },
  {
   "cell_type": "code",
   "execution_count": 102,
   "id": "4ffed73d",
   "metadata": {},
   "outputs": [
    {
     "data": {
      "text/plain": [
       "6040"
      ]
     },
     "execution_count": 102,
     "metadata": {},
     "output_type": "execute_result"
    }
   ],
   "source": [
    "training['user'][0]"
   ]
  },
  {
   "cell_type": "code",
   "execution_count": 32,
   "id": "2fbebbb6",
   "metadata": {},
   "outputs": [],
   "source": [
    "reader = Reader(rating_scale=(1, 5))\n",
    "data = Dataset.load_from_df(training, reader)"
   ]
  },
  {
   "cell_type": "code",
   "execution_count": 86,
   "id": "540e9287",
   "metadata": {},
   "outputs": [
    {
     "name": "stdout",
     "output_type": "stream",
     "text": [
      "RMSE: 0.8862\n"
     ]
    },
    {
     "data": {
      "text/plain": [
       "0.8862384877890321"
      ]
     },
     "execution_count": 86,
     "metadata": {},
     "output_type": "execute_result"
    }
   ],
   "source": [
    "trainset, testset = train_test_split(data, test_size=.25)\n",
    "algo = SVD()\n",
    "\n",
    "# Train the algorithm on the trainset, and predict ratings for the testset\n",
    "algo.fit(trainset)\n",
    "predictions = algo.test(testset)\n",
    "\n",
    "# Then compute RMSE\n",
    "accuracy.rmse(predictions)"
   ]
  },
  {
   "cell_type": "code",
   "execution_count": 92,
   "id": "5c4bf717",
   "metadata": {},
   "outputs": [
    {
     "data": {
      "text/plain": [
       "4.3868986693961105"
      ]
     },
     "execution_count": 92,
     "metadata": {},
     "output_type": "execute_result"
    }
   ],
   "source": [
    "pred_df = pd.DataFrame(data=predictions, columns=('user','movie','actualrating','predictedrating','details'))\n",
    "percentileMetric(pred_df)"
   ]
  },
  {
   "cell_type": "code",
   "execution_count": 36,
   "id": "1267ea39",
   "metadata": {},
   "outputs": [
    {
     "name": "stdout",
     "output_type": "stream",
     "text": [
      "Computing the msd similarity matrix...\n",
      "Done computing similarity matrix.\n",
      "RMSE: 0.9333\n"
     ]
    },
    {
     "data": {
      "text/plain": [
       "0.933280368211493"
      ]
     },
     "execution_count": 36,
     "metadata": {},
     "output_type": "execute_result"
    }
   ],
   "source": [
    "algo = KNNBasic()\n",
    "\n",
    "# Train the algorithm on the trainset, and predict ratings for the testset\n",
    "algo.fit(trainset)\n",
    "predictions = algo.test(testset)\n",
    "\n",
    "# Then compute RMSE\n",
    "accuracy.rmse(predictions)"
   ]
  },
  {
   "cell_type": "code",
   "execution_count": 75,
   "id": "91638ec4",
   "metadata": {},
   "outputs": [
    {
     "name": "stdout",
     "output_type": "stream",
     "text": [
      "RMSE: 0.9246\n"
     ]
    },
    {
     "data": {
      "text/plain": [
       "0.9246419988061235"
      ]
     },
     "execution_count": 75,
     "metadata": {},
     "output_type": "execute_result"
    }
   ],
   "source": [
    "algo = NMF()\n",
    "\n",
    "# Train the algorithm on the trainset, and predict ratings for the testset\n",
    "algo.fit(trainset)\n",
    "predictions = algo.test(testset)\n",
    "\n",
    "# Then compute RMSE\n",
    "accuracy.rmse(predictions)"
   ]
  },
  {
   "cell_type": "code",
   "execution_count": 94,
   "id": "f8adb3ab",
   "metadata": {},
   "outputs": [
    {
     "name": "stderr",
     "output_type": "stream",
     "text": [
      "/Users/kevin/opt/anaconda3/lib/python3.7/site-packages/ipykernel_launcher.py:4: DeprecationWarning: `np.int` is a deprecated alias for the builtin `int`. To silence this warning, use `int` by itself. Doing this will not modify any behavior and is safe. When replacing `np.int`, you may wish to use e.g. `np.int64` or `np.int32` to specify the precision. If you wish to review your current use, check the release note link for additional information.\n",
      "Deprecated in NumPy 1.20; for more details and guidance: https://numpy.org/devdocs/release/1.20.0-notes.html#deprecations\n",
      "  after removing the cwd from sys.path.\n"
     ]
    },
    {
     "name": "stdout",
     "output_type": "stream",
     "text": [
      "RMSE: 0.9175\n",
      "RMSE: 0.9175292663454286\n",
      "The Snyder Metric: 4.344111039794608\n"
     ]
    }
   ],
   "source": [
    "algo = CoClustering()\n",
    "\n",
    "# Train the algorithm on the trainset, and predict ratings for the testset\n",
    "algo.fit(trainset)\n",
    "predictions = algo.test(testset)\n",
    "\n",
    "# Then compute RMSE\n",
    "print('RMSE:', accuracy.rmse(predictions))\n",
    "\n",
    "pred_df = pd.DataFrame(data=predictions, columns=('user','movie','actualrating','predictedrating','details'))\n",
    "print('The Snyder Metric:', percentileMetric(pred_df))"
   ]
  },
  {
   "cell_type": "code",
   "execution_count": 95,
   "id": "ceab9190",
   "metadata": {},
   "outputs": [
    {
     "name": "stdout",
     "output_type": "stream",
     "text": [
      "RMSE: 0.8694\n",
      "RMSE: 0.8693759616134457\n",
      "The Snyder Metric: 4.424692137669719\n"
     ]
    }
   ],
   "source": [
    "algo = SVDpp()\n",
    "\n",
    "algo.fit(trainset)\n",
    "predictions = algo.test(testset)\n",
    "\n",
    "pred_df = pd.DataFrame(data=predictions, columns=('user','movie','actualrating','predictedrating','details'))\n",
    "print('The Snyder Metric:', percentileMetric(pred_df))"
   ]
  },
  {
   "cell_type": "code",
   "execution_count": 100,
   "id": "68262571",
   "metadata": {},
   "outputs": [
    {
     "name": "stdout",
     "output_type": "stream",
     "text": [
      "The Snyder Metric: 4.354602097957252\n"
     ]
    }
   ],
   "source": [
    "algo = SVDpp(n_factors=5, n_epochs=5)\n",
    "\n",
    "algo.fit(trainset)\n",
    "predictions = algo.test(testset)\n",
    "\n",
    "pred_df = pd.DataFrame(data=predictions, columns=('user','movie','actualrating','predictedrating','details'))\n",
    "print('The Snyder Metric:', percentileMetric(pred_df))"
   ]
  },
  {
   "cell_type": "code",
   "execution_count": null,
   "id": "80fc3e05",
   "metadata": {},
   "outputs": [],
   "source": [
    "for idx in full_testset.index:\n",
    "    full_testset.loc[idx, 'predicted_rating'] = algo.predict(str(full_testset['user'][idx]), str(full_testset['movie'][idx]))"
   ]
  },
  {
   "cell_type": "code",
   "execution_count": 101,
   "id": "6d2b2d78",
   "metadata": {},
   "outputs": [
    {
     "ename": "TypeError",
     "evalue": "'Trainset' object is not subscriptable",
     "output_type": "error",
     "traceback": [
      "\u001b[0;31m---------------------------------------------------------------------------\u001b[0m",
      "\u001b[0;31mTypeError\u001b[0m                                 Traceback (most recent call last)",
      "\u001b[0;32m<ipython-input-101-9b6c0ea03676>\u001b[0m in \u001b[0;36m<module>\u001b[0;34m\u001b[0m\n\u001b[0;32m----> 1\u001b[0;31m \u001b[0mtrainset\u001b[0m\u001b[0;34m[\u001b[0m\u001b[0;36m0\u001b[0m\u001b[0;34m]\u001b[0m\u001b[0;34m\u001b[0m\u001b[0;34m\u001b[0m\u001b[0m\n\u001b[0m",
      "\u001b[0;31mTypeError\u001b[0m: 'Trainset' object is not subscriptable"
     ]
    }
   ],
   "source": [
    "trainset[0]"
   ]
  }
 ],
 "metadata": {
  "kernelspec": {
   "display_name": "Python 3",
   "language": "python",
   "name": "python3"
  },
  "language_info": {
   "codemirror_mode": {
    "name": "ipython",
    "version": 3
   },
   "file_extension": ".py",
   "mimetype": "text/x-python",
   "name": "python",
   "nbconvert_exporter": "python",
   "pygments_lexer": "ipython3",
   "version": "3.7.7"
  }
 },
 "nbformat": 4,
 "nbformat_minor": 5
}
