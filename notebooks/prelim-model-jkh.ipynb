{
 "cells": [
  {
   "cell_type": "markdown",
   "id": "da07c8eb",
   "metadata": {},
   "source": [
    "## Preliminary Model"
   ]
  },
  {
   "cell_type": "code",
   "execution_count": 73,
   "id": "470a5c8e",
   "metadata": {},
   "outputs": [],
   "source": [
    "import pandas as pd\n",
    "import numpy as np\n",
    "\n",
    "from surprise import Reader\n",
    "from surprise import Dataset\n",
    "\n",
    "from surprise.model_selection import cross_validate, train_test_split\n",
    "from surprise import accuracy\n",
    "from surprise import SVD, KNNBasic, NMF, KNNWithMeans, KNNWithZScore\n",
    "\n",
    "import sys\n",
    "sys.path.append(\"./../\")\n",
    "from src.utils import percentileMetric"
   ]
  },
  {
   "cell_type": "code",
   "execution_count": 74,
   "id": "ed7c192f",
   "metadata": {},
   "outputs": [],
   "source": [
    "df = pd.read_csv(\"./../data/training.csv\").drop(columns=\"timestamp\")"
   ]
  },
  {
   "cell_type": "code",
   "execution_count": 75,
   "id": "40a05f13",
   "metadata": {},
   "outputs": [
    {
     "data": {
      "text/plain": [
       "Index(['user', 'movie', 'rating'], dtype='object')"
      ]
     },
     "execution_count": 75,
     "metadata": {},
     "output_type": "execute_result"
    }
   ],
   "source": [
    "df.columns"
   ]
  },
  {
   "cell_type": "code",
   "execution_count": 76,
   "id": "16f6ced5",
   "metadata": {},
   "outputs": [],
   "source": [
    "reader = Reader(rating_scale=(1, 5))\n",
    "data = Dataset.load_from_df(df[[\"user\", \"movie\", \"rating\"]], reader)"
   ]
  },
  {
   "cell_type": "code",
   "execution_count": 77,
   "id": "f050523a",
   "metadata": {},
   "outputs": [],
   "source": [
    "# cross_validate(model_alg, data, measures=[\"RMSE\", \"MAE\"], cv=5, verbose=True)"
   ]
  },
  {
   "cell_type": "code",
   "execution_count": 78,
   "id": "d987a4c1",
   "metadata": {},
   "outputs": [],
   "source": [
    "trainset, testset = train_test_split(data, test_size=0.2)"
   ]
  },
  {
   "cell_type": "markdown",
   "id": "4fe162ff",
   "metadata": {},
   "source": [
    "### Matrix factorization: SVD"
   ]
  },
  {
   "cell_type": "code",
   "execution_count": 79,
   "id": "31edd5f6",
   "metadata": {},
   "outputs": [
    {
     "name": "stdout",
     "output_type": "stream",
     "text": [
      "RMSE: 0.8807\n"
     ]
    },
    {
     "data": {
      "text/plain": [
       "0.8807349831894097"
      ]
     },
     "execution_count": 79,
     "metadata": {},
     "output_type": "execute_result"
    }
   ],
   "source": [
    "model_alg = SVD()\n",
    "model_alg.fit(trainset)\n",
    "pred_alg = model_alg.test(testset)\n",
    "accuracy.rmse(pred_alg)"
   ]
  },
  {
   "cell_type": "code",
   "execution_count": 80,
   "id": "d12cc966",
   "metadata": {},
   "outputs": [
    {
     "data": {
      "text/html": [
       "<div>\n",
       "<style scoped>\n",
       "    .dataframe tbody tr th:only-of-type {\n",
       "        vertical-align: middle;\n",
       "    }\n",
       "\n",
       "    .dataframe tbody tr th {\n",
       "        vertical-align: top;\n",
       "    }\n",
       "\n",
       "    .dataframe thead th {\n",
       "        text-align: right;\n",
       "    }\n",
       "</style>\n",
       "<table border=\"1\" class=\"dataframe\">\n",
       "  <thead>\n",
       "    <tr style=\"text-align: right;\">\n",
       "      <th></th>\n",
       "      <th>uid</th>\n",
       "      <th>iid</th>\n",
       "      <th>r_ui</th>\n",
       "      <th>est</th>\n",
       "      <th>details</th>\n",
       "    </tr>\n",
       "  </thead>\n",
       "  <tbody>\n",
       "    <tr>\n",
       "      <th>0</th>\n",
       "      <td>4083</td>\n",
       "      <td>3431</td>\n",
       "      <td>1.0</td>\n",
       "      <td>1.992204</td>\n",
       "      <td>{'was_impossible': False}</td>\n",
       "    </tr>\n",
       "    <tr>\n",
       "      <th>1</th>\n",
       "      <td>2100</td>\n",
       "      <td>608</td>\n",
       "      <td>4.0</td>\n",
       "      <td>3.716298</td>\n",
       "      <td>{'was_impossible': False}</td>\n",
       "    </tr>\n",
       "    <tr>\n",
       "      <th>2</th>\n",
       "      <td>1120</td>\n",
       "      <td>3698</td>\n",
       "      <td>1.0</td>\n",
       "      <td>3.483819</td>\n",
       "      <td>{'was_impossible': False}</td>\n",
       "    </tr>\n",
       "    <tr>\n",
       "      <th>3</th>\n",
       "      <td>1895</td>\n",
       "      <td>1729</td>\n",
       "      <td>3.0</td>\n",
       "      <td>3.646702</td>\n",
       "      <td>{'was_impossible': False}</td>\n",
       "    </tr>\n",
       "    <tr>\n",
       "      <th>4</th>\n",
       "      <td>5915</td>\n",
       "      <td>16</td>\n",
       "      <td>5.0</td>\n",
       "      <td>4.321800</td>\n",
       "      <td>{'was_impossible': False}</td>\n",
       "    </tr>\n",
       "  </tbody>\n",
       "</table>\n",
       "</div>"
      ],
      "text/plain": [
       "    uid   iid  r_ui       est                    details\n",
       "0  4083  3431   1.0  1.992204  {'was_impossible': False}\n",
       "1  2100   608   4.0  3.716298  {'was_impossible': False}\n",
       "2  1120  3698   1.0  3.483819  {'was_impossible': False}\n",
       "3  1895  1729   3.0  3.646702  {'was_impossible': False}\n",
       "4  5915    16   5.0  4.321800  {'was_impossible': False}"
      ]
     },
     "execution_count": 80,
     "metadata": {},
     "output_type": "execute_result"
    }
   ],
   "source": [
    "pd.DataFrame(pred_alg).head()"
   ]
  },
  {
   "cell_type": "code",
   "execution_count": 81,
   "id": "c7c9c00f",
   "metadata": {},
   "outputs": [
    {
     "data": {
      "text/plain": [
       "4.38264882325796"
      ]
     },
     "execution_count": 81,
     "metadata": {},
     "output_type": "execute_result"
    }
   ],
   "source": [
    "percentileMetric(pd.DataFrame(pred_alg, columns=[\"user\", \"movie\", \"actualrating\", \"predictedrating\", \"info\"]))"
   ]
  },
  {
   "cell_type": "code",
   "execution_count": null,
   "id": "f3b46876",
   "metadata": {},
   "outputs": [],
   "source": []
  },
  {
   "cell_type": "markdown",
   "id": "6ff3a5a5",
   "metadata": {},
   "source": [
    "### KNNBasic"
   ]
  },
  {
   "cell_type": "code",
   "execution_count": 82,
   "id": "1e944501",
   "metadata": {},
   "outputs": [
    {
     "name": "stdout",
     "output_type": "stream",
     "text": [
      "Computing the msd similarity matrix...\n",
      "Done computing similarity matrix.\n",
      "RMSE: 0.9285\n"
     ]
    },
    {
     "data": {
      "text/plain": [
       "0.928458983731706"
      ]
     },
     "execution_count": 82,
     "metadata": {},
     "output_type": "execute_result"
    }
   ],
   "source": [
    "model_knnb = KNNBasic()\n",
    "model_knnb.fit(trainset)\n",
    "pred_knnb = model_knnb.test(testset)\n",
    "accuracy.rmse(pred_knnb)"
   ]
  },
  {
   "cell_type": "code",
   "execution_count": 83,
   "id": "08016920",
   "metadata": {},
   "outputs": [
    {
     "data": {
      "text/html": [
       "<div>\n",
       "<style scoped>\n",
       "    .dataframe tbody tr th:only-of-type {\n",
       "        vertical-align: middle;\n",
       "    }\n",
       "\n",
       "    .dataframe tbody tr th {\n",
       "        vertical-align: top;\n",
       "    }\n",
       "\n",
       "    .dataframe thead th {\n",
       "        text-align: right;\n",
       "    }\n",
       "</style>\n",
       "<table border=\"1\" class=\"dataframe\">\n",
       "  <thead>\n",
       "    <tr style=\"text-align: right;\">\n",
       "      <th></th>\n",
       "      <th>user</th>\n",
       "      <th>movie</th>\n",
       "      <th>actualrating</th>\n",
       "      <th>predictedrating</th>\n",
       "      <th>info</th>\n",
       "    </tr>\n",
       "  </thead>\n",
       "  <tbody>\n",
       "    <tr>\n",
       "      <th>0</th>\n",
       "      <td>4083</td>\n",
       "      <td>3431</td>\n",
       "      <td>1.0</td>\n",
       "      <td>2.513383</td>\n",
       "      <td>{'actual_k': 40, 'was_impossible': False}</td>\n",
       "    </tr>\n",
       "    <tr>\n",
       "      <th>1</th>\n",
       "      <td>2100</td>\n",
       "      <td>608</td>\n",
       "      <td>4.0</td>\n",
       "      <td>4.385161</td>\n",
       "      <td>{'actual_k': 40, 'was_impossible': False}</td>\n",
       "    </tr>\n",
       "    <tr>\n",
       "      <th>2</th>\n",
       "      <td>1120</td>\n",
       "      <td>3698</td>\n",
       "      <td>1.0</td>\n",
       "      <td>3.231681</td>\n",
       "      <td>{'actual_k': 40, 'was_impossible': False}</td>\n",
       "    </tr>\n",
       "    <tr>\n",
       "      <th>3</th>\n",
       "      <td>1895</td>\n",
       "      <td>1729</td>\n",
       "      <td>3.0</td>\n",
       "      <td>3.757955</td>\n",
       "      <td>{'actual_k': 40, 'was_impossible': False}</td>\n",
       "    </tr>\n",
       "    <tr>\n",
       "      <th>4</th>\n",
       "      <td>5915</td>\n",
       "      <td>16</td>\n",
       "      <td>5.0</td>\n",
       "      <td>3.727946</td>\n",
       "      <td>{'actual_k': 40, 'was_impossible': False}</td>\n",
       "    </tr>\n",
       "  </tbody>\n",
       "</table>\n",
       "</div>"
      ],
      "text/plain": [
       "   user  movie  actualrating  predictedrating  \\\n",
       "0  4083   3431           1.0         2.513383   \n",
       "1  2100    608           4.0         4.385161   \n",
       "2  1120   3698           1.0         3.231681   \n",
       "3  1895   1729           3.0         3.757955   \n",
       "4  5915     16           5.0         3.727946   \n",
       "\n",
       "                                        info  \n",
       "0  {'actual_k': 40, 'was_impossible': False}  \n",
       "1  {'actual_k': 40, 'was_impossible': False}  \n",
       "2  {'actual_k': 40, 'was_impossible': False}  \n",
       "3  {'actual_k': 40, 'was_impossible': False}  \n",
       "4  {'actual_k': 40, 'was_impossible': False}  "
      ]
     },
     "execution_count": 83,
     "metadata": {},
     "output_type": "execute_result"
    }
   ],
   "source": [
    "pd.DataFrame(pred_knnb, columns=[\"user\", \"movie\", \"actualrating\", \"predictedrating\", \"info\"]).head()"
   ]
  },
  {
   "cell_type": "code",
   "execution_count": 84,
   "id": "fc74cbfa",
   "metadata": {},
   "outputs": [
    {
     "data": {
      "text/plain": [
       "4.329967577582214"
      ]
     },
     "execution_count": 84,
     "metadata": {},
     "output_type": "execute_result"
    }
   ],
   "source": [
    "percentileMetric(pd.DataFrame(pred_knnb, columns=[\"user\", \"movie\", \"actualrating\", \"predictedrating\", \"info\"]))"
   ]
  },
  {
   "cell_type": "code",
   "execution_count": null,
   "id": "a3680c18",
   "metadata": {},
   "outputs": [],
   "source": []
  },
  {
   "cell_type": "markdown",
   "id": "5ea009de",
   "metadata": {},
   "source": [
    "### NMF"
   ]
  },
  {
   "cell_type": "code",
   "execution_count": 85,
   "id": "b490865c",
   "metadata": {},
   "outputs": [
    {
     "name": "stdout",
     "output_type": "stream",
     "text": [
      "RMSE: 0.9195\n"
     ]
    },
    {
     "data": {
      "text/plain": [
       "0.9195303661621935"
      ]
     },
     "execution_count": 85,
     "metadata": {},
     "output_type": "execute_result"
    }
   ],
   "source": [
    "model_nmf = NMF()\n",
    "model_nmf.fit(trainset)\n",
    "pred_nmf = model_nmf.test(testset)\n",
    "accuracy.rmse(pred_nmf)"
   ]
  },
  {
   "cell_type": "code",
   "execution_count": 86,
   "id": "36a18af4",
   "metadata": {},
   "outputs": [
    {
     "data": {
      "text/plain": [
       "4.263055194201821"
      ]
     },
     "execution_count": 86,
     "metadata": {},
     "output_type": "execute_result"
    }
   ],
   "source": [
    "percentileMetric(pd.DataFrame(pred_nmf, columns=[\"user\", \"movie\", \"actualrating\", \"predictedrating\", \"info\"]))"
   ]
  },
  {
   "cell_type": "code",
   "execution_count": null,
   "id": "4a28d49d",
   "metadata": {},
   "outputs": [],
   "source": []
  },
  {
   "cell_type": "markdown",
   "id": "573a4ecb",
   "metadata": {},
   "source": [
    "### Other KNN models"
   ]
  },
  {
   "cell_type": "code",
   "execution_count": 87,
   "id": "696e91fc",
   "metadata": {},
   "outputs": [],
   "source": [
    "def run_model(model, train_data, test_data):\n",
    "    model_ = model()\n",
    "    model_.fit(train_data)\n",
    "    pred = model_.test(test_data)\n",
    "    acc = accuracy.rmse(pred)\n",
    "    return model_, pred, acc"
   ]
  },
  {
   "cell_type": "code",
   "execution_count": 88,
   "id": "09c6b7c5",
   "metadata": {},
   "outputs": [
    {
     "name": "stdout",
     "output_type": "stream",
     "text": [
      "Computing the msd similarity matrix...\n",
      "Done computing similarity matrix.\n",
      "RMSE: 0.9334\n"
     ]
    },
    {
     "data": {
      "text/plain": [
       "0.9334435820221055"
      ]
     },
     "execution_count": 88,
     "metadata": {},
     "output_type": "execute_result"
    }
   ],
   "source": [
    "model_knnm, pred_knnm, acc_knnm = run_model(KNNWithMeans, trainset, testset)\n",
    "acc_knnm"
   ]
  },
  {
   "cell_type": "code",
   "execution_count": 89,
   "id": "ac118f92",
   "metadata": {},
   "outputs": [
    {
     "data": {
      "text/plain": [
       "4.272701767511456"
      ]
     },
     "execution_count": 89,
     "metadata": {},
     "output_type": "execute_result"
    }
   ],
   "source": [
    "percentileMetric(pd.DataFrame(pred_knnm, columns=[\"user\", \"movie\", \"actualrating\", \"predictedrating\", \"info\"]))"
   ]
  },
  {
   "cell_type": "code",
   "execution_count": 90,
   "id": "3f52bdf4",
   "metadata": {},
   "outputs": [
    {
     "name": "stdout",
     "output_type": "stream",
     "text": [
      "Computing the msd similarity matrix...\n",
      "Done computing similarity matrix.\n",
      "RMSE: 0.9344\n"
     ]
    },
    {
     "data": {
      "text/plain": [
       "0.9344145942568899"
      ]
     },
     "execution_count": 90,
     "metadata": {},
     "output_type": "execute_result"
    }
   ],
   "source": [
    "model_knnz, pred_knnz, acc_knnz = run_model(KNNWithZScore, trainset, testset)\n",
    "acc_knnz"
   ]
  },
  {
   "cell_type": "code",
   "execution_count": 91,
   "id": "8ae4311c",
   "metadata": {},
   "outputs": [
    {
     "data": {
      "text/plain": [
       "4.280137559252719"
      ]
     },
     "execution_count": 91,
     "metadata": {},
     "output_type": "execute_result"
    }
   ],
   "source": [
    "percentileMetric(pd.DataFrame(pred_knnz, columns=[\"user\", \"movie\", \"actualrating\", \"predictedrating\", \"info\"]))"
   ]
  },
  {
   "cell_type": "code",
   "execution_count": null,
   "id": "024dd542",
   "metadata": {},
   "outputs": [],
   "source": []
  },
  {
   "cell_type": "code",
   "execution_count": null,
   "id": "467ba6d7",
   "metadata": {},
   "outputs": [],
   "source": []
  },
  {
   "cell_type": "markdown",
   "id": "c6bdf555",
   "metadata": {},
   "source": [
    "## Tune SVD"
   ]
  },
  {
   "cell_type": "code",
   "execution_count": 105,
   "id": "ad91831f",
   "metadata": {},
   "outputs": [
    {
     "name": "stdout",
     "output_type": "stream",
     "text": [
      "RMSE: 0.9041\n",
      "RMSE: 0.8867\n",
      "RMSE: 0.8815\n"
     ]
    }
   ],
   "source": [
    "nfactors_lst = [25, 50, 100]\n",
    "n_epochs = [10, 15, 20]\n",
    "zscore_lst = []\n",
    "rmse_lst = []\n",
    "for n_factor, n_epoch in zip(nfactors_lst, n_epochs):\n",
    "    model_svd = SVD(n_factors=n_factor, n_epochs=n_epoch)\n",
    "    model_svd.fit(trainset)\n",
    "    pred_svd = model_svd.test(testset)\n",
    "    zscore_lst.append(\n",
    "        percentileMetric(\n",
    "            pd.DataFrame(pred_svd, \n",
    "            columns=[\"user\", \"movie\", \"actualrating\", \"predictedrating\", \"info\"])))\n",
    "    rmse_lst.append(accuracy.rmse(pred_svd))"
   ]
  },
  {
   "cell_type": "code",
   "execution_count": 106,
   "id": "3095efaa",
   "metadata": {},
   "outputs": [
    {
     "data": {
      "text/plain": [
       "[4.316184649610679, 4.355403278081304, 4.376994742182456]"
      ]
     },
     "execution_count": 106,
     "metadata": {},
     "output_type": "execute_result"
    }
   ],
   "source": [
    "zscore_lst"
   ]
  },
  {
   "cell_type": "code",
   "execution_count": 107,
   "id": "7e13265d",
   "metadata": {},
   "outputs": [
    {
     "data": {
      "text/plain": [
       "[0.9041319968496241, 0.8867187685605266, 0.8815419538936002]"
      ]
     },
     "execution_count": 107,
     "metadata": {},
     "output_type": "execute_result"
    }
   ],
   "source": [
    "rmse_lst"
   ]
  },
  {
   "cell_type": "code",
   "execution_count": null,
   "id": "b6c9cd70",
   "metadata": {},
   "outputs": [],
   "source": []
  },
  {
   "cell_type": "code",
   "execution_count": null,
   "id": "eda3fdcf",
   "metadata": {},
   "outputs": [],
   "source": []
  },
  {
   "cell_type": "code",
   "execution_count": null,
   "id": "c4752ee9",
   "metadata": {},
   "outputs": [],
   "source": []
  }
 ],
 "metadata": {
  "kernelspec": {
   "display_name": "Python 3",
   "language": "python",
   "name": "python3"
  },
  "language_info": {
   "codemirror_mode": {
    "name": "ipython",
    "version": 3
   },
   "file_extension": ".py",
   "mimetype": "text/x-python",
   "name": "python",
   "nbconvert_exporter": "python",
   "pygments_lexer": "ipython3",
   "version": "3.8.10"
  }
 },
 "nbformat": 4,
 "nbformat_minor": 5
}
