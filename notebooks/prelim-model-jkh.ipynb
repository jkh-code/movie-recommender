{
 "cells": [
  {
   "cell_type": "markdown",
   "id": "a8439f58",
   "metadata": {},
   "source": [
    "## Preliminary Model"
   ]
  },
  {
   "cell_type": "code",
   "execution_count": 73,
   "id": "2c3f2174",
   "metadata": {},
   "outputs": [],
   "source": [
    "import pandas as pd\n",
    "import numpy as np\n",
    "\n",
    "from surprise import Reader\n",
    "from surprise import Dataset\n",
    "\n",
    "from surprise.model_selection import cross_validate, train_test_split\n",
    "from surprise import accuracy\n",
    "from surprise import SVD, KNNBasic, NMF, KNNWithMeans, KNNWithZScore\n",
    "\n",
    "import sys\n",
    "sys.path.append(\"./../\")\n",
    "from src.utils import percentileMetric"
   ]
  },
  {
   "cell_type": "code",
   "execution_count": 74,
   "id": "e67d3c40",
   "metadata": {},
   "outputs": [],
   "source": [
    "df = pd.read_csv(\"./../data/training.csv\").drop(columns=\"timestamp\")"
   ]
  },
  {
   "cell_type": "code",
   "execution_count": 75,
   "id": "e83b76c8",
   "metadata": {},
   "outputs": [
    {
     "data": {
      "text/plain": [
       "Index(['user', 'movie', 'rating'], dtype='object')"
      ]
     },
     "execution_count": 75,
     "metadata": {},
     "output_type": "execute_result"
    }
   ],
   "source": [
    "df.columns"
   ]
  },
  {
   "cell_type": "code",
   "execution_count": 76,
   "id": "74eee878",
   "metadata": {},
   "outputs": [],
   "source": [
    "reader = Reader(rating_scale=(1, 5))\n",
    "data = Dataset.load_from_df(df[[\"user\", \"movie\", \"rating\"]], reader)"
   ]
  },
  {
   "cell_type": "code",
   "execution_count": 77,
   "id": "8588cc4e",
   "metadata": {},
   "outputs": [],
   "source": [
    "# cross_validate(model_alg, data, measures=[\"RMSE\", \"MAE\"], cv=5, verbose=True)"
   ]
  },
  {
   "cell_type": "code",
   "execution_count": 78,
   "id": "9720a591",
   "metadata": {},
   "outputs": [],
   "source": [
    "trainset, testset = train_test_split(data, test_size=0.2)"
   ]
  },
  {
   "cell_type": "markdown",
   "id": "712675a5",
   "metadata": {},
   "source": [
    "### Matrix factorization: SVD"
   ]
  },
  {
   "cell_type": "code",
   "execution_count": 79,
   "id": "a9883d30",
   "metadata": {},
   "outputs": [
    {
     "name": "stdout",
     "output_type": "stream",
     "text": [
      "RMSE: 0.8807\n"
     ]
    },
    {
     "data": {
      "text/plain": [
       "0.8807349831894097"
      ]
     },
     "execution_count": 79,
     "metadata": {},
     "output_type": "execute_result"
    }
   ],
   "source": [
    "model_alg = SVD()\n",
    "model_alg.fit(trainset)\n",
    "pred_alg = model_alg.test(testset)\n",
    "accuracy.rmse(pred_alg)"
   ]
  },
  {
   "cell_type": "code",
   "execution_count": 80,
   "id": "3cdb2808",
   "metadata": {},
   "outputs": [
    {
     "data": {
      "text/html": [
       "<div>\n",
       "<style scoped>\n",
       "    .dataframe tbody tr th:only-of-type {\n",
       "        vertical-align: middle;\n",
       "    }\n",
       "\n",
       "    .dataframe tbody tr th {\n",
       "        vertical-align: top;\n",
       "    }\n",
       "\n",
       "    .dataframe thead th {\n",
       "        text-align: right;\n",
       "    }\n",
       "</style>\n",
       "<table border=\"1\" class=\"dataframe\">\n",
       "  <thead>\n",
       "    <tr style=\"text-align: right;\">\n",
       "      <th></th>\n",
       "      <th>uid</th>\n",
       "      <th>iid</th>\n",
       "      <th>r_ui</th>\n",
       "      <th>est</th>\n",
       "      <th>details</th>\n",
       "    </tr>\n",
       "  </thead>\n",
       "  <tbody>\n",
       "    <tr>\n",
       "      <th>0</th>\n",
       "      <td>4083</td>\n",
       "      <td>3431</td>\n",
       "      <td>1.0</td>\n",
       "      <td>1.992204</td>\n",
       "      <td>{'was_impossible': False}</td>\n",
       "    </tr>\n",
       "    <tr>\n",
       "      <th>1</th>\n",
       "      <td>2100</td>\n",
       "      <td>608</td>\n",
       "      <td>4.0</td>\n",
       "      <td>3.716298</td>\n",
       "      <td>{'was_impossible': False}</td>\n",
       "    </tr>\n",
       "    <tr>\n",
       "      <th>2</th>\n",
       "      <td>1120</td>\n",
       "      <td>3698</td>\n",
       "      <td>1.0</td>\n",
       "      <td>3.483819</td>\n",
       "      <td>{'was_impossible': False}</td>\n",
       "    </tr>\n",
       "    <tr>\n",
       "      <th>3</th>\n",
       "      <td>1895</td>\n",
       "      <td>1729</td>\n",
       "      <td>3.0</td>\n",
       "      <td>3.646702</td>\n",
       "      <td>{'was_impossible': False}</td>\n",
       "    </tr>\n",
       "    <tr>\n",
       "      <th>4</th>\n",
       "      <td>5915</td>\n",
       "      <td>16</td>\n",
       "      <td>5.0</td>\n",
       "      <td>4.321800</td>\n",
       "      <td>{'was_impossible': False}</td>\n",
       "    </tr>\n",
       "  </tbody>\n",
       "</table>\n",
       "</div>"
      ],
      "text/plain": [
       "    uid   iid  r_ui       est                    details\n",
       "0  4083  3431   1.0  1.992204  {'was_impossible': False}\n",
       "1  2100   608   4.0  3.716298  {'was_impossible': False}\n",
       "2  1120  3698   1.0  3.483819  {'was_impossible': False}\n",
       "3  1895  1729   3.0  3.646702  {'was_impossible': False}\n",
       "4  5915    16   5.0  4.321800  {'was_impossible': False}"
      ]
     },
     "execution_count": 80,
     "metadata": {},
     "output_type": "execute_result"
    }
   ],
   "source": [
    "pd.DataFrame(pred_alg).head()"
   ]
  },
  {
   "cell_type": "code",
   "execution_count": 81,
   "id": "fbe6d705",
   "metadata": {},
   "outputs": [
    {
     "data": {
      "text/plain": [
       "4.38264882325796"
      ]
     },
     "execution_count": 81,
     "metadata": {},
     "output_type": "execute_result"
    }
   ],
   "source": [
    "percentileMetric(pd.DataFrame(pred_alg, columns=[\"user\", \"movie\", \"actualrating\", \"predictedrating\", \"info\"]))"
   ]
  },
  {
   "cell_type": "code",
   "execution_count": null,
   "id": "8f22b4a9",
   "metadata": {},
   "outputs": [],
   "source": []
  },
  {
   "cell_type": "markdown",
   "id": "b681c190",
   "metadata": {},
   "source": [
    "### KNNBasic"
   ]
  },
  {
   "cell_type": "code",
   "execution_count": 82,
   "id": "ed5677f8",
   "metadata": {},
   "outputs": [
    {
     "name": "stdout",
     "output_type": "stream",
     "text": [
      "Computing the msd similarity matrix...\n",
      "Done computing similarity matrix.\n",
      "RMSE: 0.9285\n"
     ]
    },
    {
     "data": {
      "text/plain": [
       "0.928458983731706"
      ]
     },
     "execution_count": 82,
     "metadata": {},
     "output_type": "execute_result"
    }
   ],
   "source": [
    "model_knnb = KNNBasic()\n",
    "model_knnb.fit(trainset)\n",
    "pred_knnb = model_knnb.test(testset)\n",
    "accuracy.rmse(pred_knnb)"
   ]
  },
  {
   "cell_type": "code",
   "execution_count": 83,
   "id": "8fc18aa4",
   "metadata": {},
   "outputs": [
    {
     "data": {
      "text/html": [
       "<div>\n",
       "<style scoped>\n",
       "    .dataframe tbody tr th:only-of-type {\n",
       "        vertical-align: middle;\n",
       "    }\n",
       "\n",
       "    .dataframe tbody tr th {\n",
       "        vertical-align: top;\n",
       "    }\n",
       "\n",
       "    .dataframe thead th {\n",
       "        text-align: right;\n",
       "    }\n",
       "</style>\n",
       "<table border=\"1\" class=\"dataframe\">\n",
       "  <thead>\n",
       "    <tr style=\"text-align: right;\">\n",
       "      <th></th>\n",
       "      <th>user</th>\n",
       "      <th>movie</th>\n",
       "      <th>actualrating</th>\n",
       "      <th>predictedrating</th>\n",
       "      <th>info</th>\n",
       "    </tr>\n",
       "  </thead>\n",
       "  <tbody>\n",
       "    <tr>\n",
       "      <th>0</th>\n",
       "      <td>4083</td>\n",
       "      <td>3431</td>\n",
       "      <td>1.0</td>\n",
       "      <td>2.513383</td>\n",
       "      <td>{'actual_k': 40, 'was_impossible': False}</td>\n",
       "    </tr>\n",
       "    <tr>\n",
       "      <th>1</th>\n",
       "      <td>2100</td>\n",
       "      <td>608</td>\n",
       "      <td>4.0</td>\n",
       "      <td>4.385161</td>\n",
       "      <td>{'actual_k': 40, 'was_impossible': False}</td>\n",
       "    </tr>\n",
       "    <tr>\n",
       "      <th>2</th>\n",
       "      <td>1120</td>\n",
       "      <td>3698</td>\n",
       "      <td>1.0</td>\n",
       "      <td>3.231681</td>\n",
       "      <td>{'actual_k': 40, 'was_impossible': False}</td>\n",
       "    </tr>\n",
       "    <tr>\n",
       "      <th>3</th>\n",
       "      <td>1895</td>\n",
       "      <td>1729</td>\n",
       "      <td>3.0</td>\n",
       "      <td>3.757955</td>\n",
       "      <td>{'actual_k': 40, 'was_impossible': False}</td>\n",
       "    </tr>\n",
       "    <tr>\n",
       "      <th>4</th>\n",
       "      <td>5915</td>\n",
       "      <td>16</td>\n",
       "      <td>5.0</td>\n",
       "      <td>3.727946</td>\n",
       "      <td>{'actual_k': 40, 'was_impossible': False}</td>\n",
       "    </tr>\n",
       "  </tbody>\n",
       "</table>\n",
       "</div>"
      ],
      "text/plain": [
       "   user  movie  actualrating  predictedrating  \\\n",
       "0  4083   3431           1.0         2.513383   \n",
       "1  2100    608           4.0         4.385161   \n",
       "2  1120   3698           1.0         3.231681   \n",
       "3  1895   1729           3.0         3.757955   \n",
       "4  5915     16           5.0         3.727946   \n",
       "\n",
       "                                        info  \n",
       "0  {'actual_k': 40, 'was_impossible': False}  \n",
       "1  {'actual_k': 40, 'was_impossible': False}  \n",
       "2  {'actual_k': 40, 'was_impossible': False}  \n",
       "3  {'actual_k': 40, 'was_impossible': False}  \n",
       "4  {'actual_k': 40, 'was_impossible': False}  "
      ]
     },
     "execution_count": 83,
     "metadata": {},
     "output_type": "execute_result"
    }
   ],
   "source": [
    "pd.DataFrame(pred_knnb, columns=[\"user\", \"movie\", \"actualrating\", \"predictedrating\", \"info\"]).head()"
   ]
  },
  {
   "cell_type": "code",
   "execution_count": 84,
   "id": "3b74c097",
   "metadata": {},
   "outputs": [
    {
     "data": {
      "text/plain": [
       "4.329967577582214"
      ]
     },
     "execution_count": 84,
     "metadata": {},
     "output_type": "execute_result"
    }
   ],
   "source": [
    "percentileMetric(pd.DataFrame(pred_knnb, columns=[\"user\", \"movie\", \"actualrating\", \"predictedrating\", \"info\"]))"
   ]
  },
  {
   "cell_type": "code",
   "execution_count": null,
   "id": "f93cd7e3",
   "metadata": {},
   "outputs": [],
   "source": []
  },
  {
   "cell_type": "markdown",
   "id": "0b9edac8",
   "metadata": {},
   "source": [
    "### NMF"
   ]
  },
  {
   "cell_type": "code",
   "execution_count": 85,
   "id": "1227f878",
   "metadata": {},
   "outputs": [
    {
     "name": "stdout",
     "output_type": "stream",
     "text": [
      "RMSE: 0.9195\n"
     ]
    },
    {
     "data": {
      "text/plain": [
       "0.9195303661621935"
      ]
     },
     "execution_count": 85,
     "metadata": {},
     "output_type": "execute_result"
    }
   ],
   "source": [
    "model_nmf = NMF()\n",
    "model_nmf.fit(trainset)\n",
    "pred_nmf = model_nmf.test(testset)\n",
    "accuracy.rmse(pred_nmf)"
   ]
  },
  {
   "cell_type": "code",
   "execution_count": 86,
   "id": "616a4ebf",
   "metadata": {},
   "outputs": [
    {
     "data": {
      "text/plain": [
       "4.263055194201821"
      ]
     },
     "execution_count": 86,
     "metadata": {},
     "output_type": "execute_result"
    }
   ],
   "source": [
    "percentileMetric(pd.DataFrame(pred_nmf, columns=[\"user\", \"movie\", \"actualrating\", \"predictedrating\", \"info\"]))"
   ]
  },
  {
   "cell_type": "code",
   "execution_count": null,
   "id": "c7f7caef",
   "metadata": {},
   "outputs": [],
   "source": []
  },
  {
   "cell_type": "markdown",
   "id": "ab131976",
   "metadata": {},
   "source": [
    "### Other KNN models"
   ]
  },
  {
   "cell_type": "code",
   "execution_count": 87,
   "id": "9f8590b2",
   "metadata": {},
   "outputs": [],
   "source": [
    "def run_model(model, train_data, test_data):\n",
    "    model_ = model()\n",
    "    model_.fit(train_data)\n",
    "    pred = model_.test(test_data)\n",
    "    acc = accuracy.rmse(pred)\n",
    "    return model_, pred, acc"
   ]
  },
  {
   "cell_type": "code",
   "execution_count": 88,
   "id": "469e4aaf",
   "metadata": {},
   "outputs": [
    {
     "name": "stdout",
     "output_type": "stream",
     "text": [
      "Computing the msd similarity matrix...\n",
      "Done computing similarity matrix.\n",
      "RMSE: 0.9334\n"
     ]
    },
    {
     "data": {
      "text/plain": [
       "0.9334435820221055"
      ]
     },
     "execution_count": 88,
     "metadata": {},
     "output_type": "execute_result"
    }
   ],
   "source": [
    "model_knnm, pred_knnm, acc_knnm = run_model(KNNWithMeans, trainset, testset)\n",
    "acc_knnm"
   ]
  },
  {
   "cell_type": "code",
   "execution_count": 89,
   "id": "cfc9bd0a",
   "metadata": {},
   "outputs": [
    {
     "data": {
      "text/plain": [
       "4.272701767511456"
      ]
     },
     "execution_count": 89,
     "metadata": {},
     "output_type": "execute_result"
    }
   ],
   "source": [
    "percentileMetric(pd.DataFrame(pred_knnm, columns=[\"user\", \"movie\", \"actualrating\", \"predictedrating\", \"info\"]))"
   ]
  },
  {
   "cell_type": "code",
   "execution_count": 90,
   "id": "a749735d",
   "metadata": {},
   "outputs": [
    {
     "name": "stdout",
     "output_type": "stream",
     "text": [
      "Computing the msd similarity matrix...\n",
      "Done computing similarity matrix.\n",
      "RMSE: 0.9344\n"
     ]
    },
    {
     "data": {
      "text/plain": [
       "0.9344145942568899"
      ]
     },
     "execution_count": 90,
     "metadata": {},
     "output_type": "execute_result"
    }
   ],
   "source": [
    "model_knnz, pred_knnz, acc_knnz = run_model(KNNWithZScore, trainset, testset)\n",
    "acc_knnz"
   ]
  },
  {
   "cell_type": "code",
   "execution_count": 91,
   "id": "52072d05",
   "metadata": {},
   "outputs": [
    {
     "data": {
      "text/plain": [
       "4.280137559252719"
      ]
     },
     "execution_count": 91,
     "metadata": {},
     "output_type": "execute_result"
    }
   ],
   "source": [
    "percentileMetric(pd.DataFrame(pred_knnz, columns=[\"user\", \"movie\", \"actualrating\", \"predictedrating\", \"info\"]))"
   ]
  },
  {
   "cell_type": "code",
   "execution_count": null,
   "id": "3e3dc893",
   "metadata": {},
   "outputs": [],
   "source": []
  },
  {
   "cell_type": "code",
   "execution_count": null,
   "id": "7853df02",
   "metadata": {},
   "outputs": [],
   "source": []
  },
  {
   "cell_type": "markdown",
   "id": "371a2498",
   "metadata": {},
   "source": [
    "## Tune SVD"
   ]
  },
  {
   "cell_type": "code",
   "execution_count": 111,
   "id": "44244c45",
   "metadata": {},
   "outputs": [
    {
     "name": "stdout",
     "output_type": "stream",
     "text": [
      "RMSE: 0.8819\n",
      "RMSE: 0.8819\n",
      "RMSE: 0.8826\n",
      "RMSE: 0.8833\n",
      "RMSE: 0.8848\n"
     ]
    }
   ],
   "source": [
    "nfactors_lst = [90, 95, 100, 105, 110]\n",
    "n_epochs = [18, 19, 20, 21, 22]\n",
    "zscore_lst = []\n",
    "rmse_lst = []\n",
    "for n_factor, n_epoch in zip(nfactors_lst, n_epochs):\n",
    "    model_svd = SVD(n_factors=n_factor, n_epochs=n_epoch)\n",
    "    model_svd.fit(trainset)\n",
    "    pred_svd = model_svd.test(testset)\n",
    "    zscore_lst.append(\n",
    "        percentileMetric(\n",
    "            pd.DataFrame(pred_svd, \n",
    "            columns=[\"user\", \"movie\", \"actualrating\", \"predictedrating\", \"info\"])))\n",
    "    rmse_lst.append(accuracy.rmse(pred_svd))"
   ]
  },
  {
   "cell_type": "code",
   "execution_count": 112,
   "id": "bcd27496",
   "metadata": {},
   "outputs": [
    {
     "data": {
      "text/plain": [
       "[4.3722587211992225,\n",
       " 4.37159227428149,\n",
       " 4.373511767420397,\n",
       " 4.372155411655874,\n",
       " 4.369479022591055]"
      ]
     },
     "execution_count": 112,
     "metadata": {},
     "output_type": "execute_result"
    }
   ],
   "source": [
    "zscore_lst"
   ]
  },
  {
   "cell_type": "code",
   "execution_count": 113,
   "id": "eb35cdbe",
   "metadata": {},
   "outputs": [
    {
     "data": {
      "text/plain": [
       "[0.8819050260193491,\n",
       " 0.8818916015823619,\n",
       " 0.8825506739682687,\n",
       " 0.8832556394192941,\n",
       " 0.8847626286696013]"
      ]
     },
     "execution_count": 113,
     "metadata": {},
     "output_type": "execute_result"
    }
   ],
   "source": [
    "rmse_lst"
   ]
  },
  {
   "cell_type": "code",
   "execution_count": null,
   "id": "870a76cb",
   "metadata": {},
   "outputs": [],
   "source": []
  },
  {
   "cell_type": "code",
   "execution_count": null,
   "id": "4aa46dec",
   "metadata": {},
   "outputs": [],
   "source": []
  },
  {
   "cell_type": "markdown",
   "id": "0976fb7f",
   "metadata": {},
   "source": [
    "## Output"
   ]
  },
  {
   "cell_type": "code",
   "execution_count": 129,
   "id": "a1b0136c",
   "metadata": {},
   "outputs": [
    {
     "data": {
      "text/html": [
       "<div>\n",
       "<style scoped>\n",
       "    .dataframe tbody tr th:only-of-type {\n",
       "        vertical-align: middle;\n",
       "    }\n",
       "\n",
       "    .dataframe tbody tr th {\n",
       "        vertical-align: top;\n",
       "    }\n",
       "\n",
       "    .dataframe thead th {\n",
       "        text-align: right;\n",
       "    }\n",
       "</style>\n",
       "<table border=\"1\" class=\"dataframe\">\n",
       "  <thead>\n",
       "    <tr style=\"text-align: right;\">\n",
       "      <th></th>\n",
       "      <th>user</th>\n",
       "      <th>movie</th>\n",
       "    </tr>\n",
       "  </thead>\n",
       "  <tbody>\n",
       "    <tr>\n",
       "      <th>0</th>\n",
       "      <td>4958</td>\n",
       "      <td>1924</td>\n",
       "    </tr>\n",
       "    <tr>\n",
       "      <th>1</th>\n",
       "      <td>4958</td>\n",
       "      <td>3264</td>\n",
       "    </tr>\n",
       "    <tr>\n",
       "      <th>2</th>\n",
       "      <td>4958</td>\n",
       "      <td>2634</td>\n",
       "    </tr>\n",
       "    <tr>\n",
       "      <th>3</th>\n",
       "      <td>4958</td>\n",
       "      <td>1407</td>\n",
       "    </tr>\n",
       "    <tr>\n",
       "      <th>4</th>\n",
       "      <td>4958</td>\n",
       "      <td>2399</td>\n",
       "    </tr>\n",
       "  </tbody>\n",
       "</table>\n",
       "</div>"
      ],
      "text/plain": [
       "   user  movie\n",
       "0  4958   1924\n",
       "1  4958   3264\n",
       "2  4958   2634\n",
       "3  4958   1407\n",
       "4  4958   2399"
      ]
     },
     "execution_count": 129,
     "metadata": {},
     "output_type": "execute_result"
    }
   ],
   "source": [
    "pd.read_csv(\"./../data/requests.csv\").head()"
   ]
  },
  {
   "cell_type": "code",
   "execution_count": 179,
   "id": "5310a6d1",
   "metadata": {},
   "outputs": [],
   "source": [
    "data_final = pd.read_csv(\"./../data/requests.csv\", names=[\"user\", \"movie\"])"
   ]
  },
  {
   "cell_type": "code",
   "execution_count": 180,
   "id": "7777f09f",
   "metadata": {},
   "outputs": [],
   "source": [
    "# reader_final = Reader(rating_scale=(1, 5))\n",
    "# data_final = Dataset.load_from_df(df[[\"user\", \"movie\", \"rating\"]], reader_final)"
   ]
  },
  {
   "cell_type": "code",
   "execution_count": 181,
   "id": "17d0ee99",
   "metadata": {},
   "outputs": [],
   "source": [
    "model_svd = SVD(n_factors=100, n_epochs=20)\n",
    "model_svd.fit(trainset)\n",
    "pred = model_svd.test(testset)"
   ]
  },
  {
   "cell_type": "code",
   "execution_count": 182,
   "id": "4f32076d",
   "metadata": {},
   "outputs": [],
   "source": [
    "# pred = model_svd.test(data_final)"
   ]
  },
  {
   "cell_type": "code",
   "execution_count": null,
   "id": "b9f2886a",
   "metadata": {},
   "outputs": [],
   "source": []
  },
  {
   "cell_type": "code",
   "execution_count": null,
   "id": "6867e7fb",
   "metadata": {},
   "outputs": [],
   "source": []
  },
  {
   "cell_type": "code",
   "execution_count": null,
   "id": "418cdb4f",
   "metadata": {},
   "outputs": [],
   "source": []
  },
  {
   "cell_type": "code",
   "execution_count": 183,
   "id": "c4776f57",
   "metadata": {},
   "outputs": [],
   "source": [
    "rows = []\n",
    "for idx, row in enumerate(data_final.iterrows()):\n",
    "    if idx == 0:\n",
    "        continue\n",
    "#     print(row[1][\"user\"])\n",
    "#     print(row[1][\"movie\"])\n",
    "    \n",
    "#     if row[0] == 5:\n",
    "#         break\n",
    "    rows.append(model_svd.predict(row[1][\"user\"], row[1][\"movie\"]))\n",
    "\n",
    "# model_svd.predict(4958, 1924)"
   ]
  },
  {
   "cell_type": "code",
   "execution_count": 193,
   "id": "d5ed0c5c",
   "metadata": {},
   "outputs": [
    {
     "data": {
      "text/plain": [
       "[Prediction(uid='4958', iid='1924', r_ui=None, est=3.5911546875, details={'was_impossible': False})]"
      ]
     },
     "execution_count": 193,
     "metadata": {},
     "output_type": "execute_result"
    }
   ],
   "source": [
    "rows[:1]"
   ]
  },
  {
   "cell_type": "code",
   "execution_count": 192,
   "id": "f4a11898",
   "metadata": {},
   "outputs": [
    {
     "data": {
      "text/html": [
       "<div>\n",
       "<style scoped>\n",
       "    .dataframe tbody tr th:only-of-type {\n",
       "        vertical-align: middle;\n",
       "    }\n",
       "\n",
       "    .dataframe tbody tr th {\n",
       "        vertical-align: top;\n",
       "    }\n",
       "\n",
       "    .dataframe thead th {\n",
       "        text-align: right;\n",
       "    }\n",
       "</style>\n",
       "<table border=\"1\" class=\"dataframe\">\n",
       "  <thead>\n",
       "    <tr style=\"text-align: right;\">\n",
       "      <th></th>\n",
       "      <th>user</th>\n",
       "      <th>movie</th>\n",
       "      <th>rating</th>\n",
       "    </tr>\n",
       "  </thead>\n",
       "  <tbody>\n",
       "    <tr>\n",
       "      <th>0</th>\n",
       "      <td>4958</td>\n",
       "      <td>1924</td>\n",
       "      <td>3.591155</td>\n",
       "    </tr>\n",
       "    <tr>\n",
       "      <th>1</th>\n",
       "      <td>4958</td>\n",
       "      <td>3264</td>\n",
       "      <td>3.591155</td>\n",
       "    </tr>\n",
       "    <tr>\n",
       "      <th>2</th>\n",
       "      <td>4958</td>\n",
       "      <td>2634</td>\n",
       "      <td>3.591155</td>\n",
       "    </tr>\n",
       "    <tr>\n",
       "      <th>3</th>\n",
       "      <td>4958</td>\n",
       "      <td>1407</td>\n",
       "      <td>3.591155</td>\n",
       "    </tr>\n",
       "    <tr>\n",
       "      <th>4</th>\n",
       "      <td>4958</td>\n",
       "      <td>2399</td>\n",
       "      <td>3.591155</td>\n",
       "    </tr>\n",
       "    <tr>\n",
       "      <th>...</th>\n",
       "      <td>...</td>\n",
       "      <td>...</td>\n",
       "      <td>...</td>\n",
       "    </tr>\n",
       "    <tr>\n",
       "      <th>200204</th>\n",
       "      <td>1875</td>\n",
       "      <td>3793</td>\n",
       "      <td>3.591155</td>\n",
       "    </tr>\n",
       "    <tr>\n",
       "      <th>200205</th>\n",
       "      <td>1875</td>\n",
       "      <td>2160</td>\n",
       "      <td>3.591155</td>\n",
       "    </tr>\n",
       "    <tr>\n",
       "      <th>200206</th>\n",
       "      <td>1875</td>\n",
       "      <td>1035</td>\n",
       "      <td>3.591155</td>\n",
       "    </tr>\n",
       "    <tr>\n",
       "      <th>200207</th>\n",
       "      <td>1875</td>\n",
       "      <td>1580</td>\n",
       "      <td>3.591155</td>\n",
       "    </tr>\n",
       "    <tr>\n",
       "      <th>200208</th>\n",
       "      <td>1875</td>\n",
       "      <td>589</td>\n",
       "      <td>3.591155</td>\n",
       "    </tr>\n",
       "  </tbody>\n",
       "</table>\n",
       "<p>200209 rows × 3 columns</p>\n",
       "</div>"
      ],
      "text/plain": [
       "        user movie    rating\n",
       "0       4958  1924  3.591155\n",
       "1       4958  3264  3.591155\n",
       "2       4958  2634  3.591155\n",
       "3       4958  1407  3.591155\n",
       "4       4958  2399  3.591155\n",
       "...      ...   ...       ...\n",
       "200204  1875  3793  3.591155\n",
       "200205  1875  2160  3.591155\n",
       "200206  1875  1035  3.591155\n",
       "200207  1875  1580  3.591155\n",
       "200208  1875   589  3.591155\n",
       "\n",
       "[200209 rows x 3 columns]"
      ]
     },
     "execution_count": 192,
     "metadata": {},
     "output_type": "execute_result"
    }
   ],
   "source": [
    "pd.DataFrame(rows).drop(columns=[\"r_ui\", \"details\"]).rename(columns={\"uid\": \"user\", \"iid\": \"movie\", \"est\": \"rating\"})\n",
    "#.to_csv(\"./../data/submission-svd.csv\")"
   ]
  },
  {
   "cell_type": "code",
   "execution_count": null,
   "id": "442ece7b",
   "metadata": {},
   "outputs": [],
   "source": []
  },
  {
   "cell_type": "code",
   "execution_count": null,
   "id": "f8631dfe",
   "metadata": {},
   "outputs": [],
   "source": []
  },
  {
   "cell_type": "code",
   "execution_count": 196,
   "id": "ed8a20ad",
   "metadata": {},
   "outputs": [
    {
     "data": {
      "text/html": [
       "<div>\n",
       "<style scoped>\n",
       "    .dataframe tbody tr th:only-of-type {\n",
       "        vertical-align: middle;\n",
       "    }\n",
       "\n",
       "    .dataframe tbody tr th {\n",
       "        vertical-align: top;\n",
       "    }\n",
       "\n",
       "    .dataframe thead th {\n",
       "        text-align: right;\n",
       "    }\n",
       "</style>\n",
       "<table border=\"1\" class=\"dataframe\">\n",
       "  <thead>\n",
       "    <tr style=\"text-align: right;\">\n",
       "      <th></th>\n",
       "      <th>user</th>\n",
       "      <th>movie</th>\n",
       "      <th>predicted_rating</th>\n",
       "    </tr>\n",
       "  </thead>\n",
       "  <tbody>\n",
       "    <tr>\n",
       "      <th>0</th>\n",
       "      <td>4958</td>\n",
       "      <td>1924</td>\n",
       "      <td>0</td>\n",
       "    </tr>\n",
       "    <tr>\n",
       "      <th>1</th>\n",
       "      <td>4958</td>\n",
       "      <td>3264</td>\n",
       "      <td>0</td>\n",
       "    </tr>\n",
       "    <tr>\n",
       "      <th>2</th>\n",
       "      <td>4958</td>\n",
       "      <td>2634</td>\n",
       "      <td>0</td>\n",
       "    </tr>\n",
       "    <tr>\n",
       "      <th>3</th>\n",
       "      <td>4958</td>\n",
       "      <td>1407</td>\n",
       "      <td>0</td>\n",
       "    </tr>\n",
       "    <tr>\n",
       "      <th>4</th>\n",
       "      <td>4958</td>\n",
       "      <td>2399</td>\n",
       "      <td>0</td>\n",
       "    </tr>\n",
       "    <tr>\n",
       "      <th>...</th>\n",
       "      <td>...</td>\n",
       "      <td>...</td>\n",
       "      <td>...</td>\n",
       "    </tr>\n",
       "    <tr>\n",
       "      <th>200204</th>\n",
       "      <td>1875</td>\n",
       "      <td>3793</td>\n",
       "      <td>0</td>\n",
       "    </tr>\n",
       "    <tr>\n",
       "      <th>200205</th>\n",
       "      <td>1875</td>\n",
       "      <td>2160</td>\n",
       "      <td>0</td>\n",
       "    </tr>\n",
       "    <tr>\n",
       "      <th>200206</th>\n",
       "      <td>1875</td>\n",
       "      <td>1035</td>\n",
       "      <td>0</td>\n",
       "    </tr>\n",
       "    <tr>\n",
       "      <th>200207</th>\n",
       "      <td>1875</td>\n",
       "      <td>1580</td>\n",
       "      <td>0</td>\n",
       "    </tr>\n",
       "    <tr>\n",
       "      <th>200208</th>\n",
       "      <td>1875</td>\n",
       "      <td>589</td>\n",
       "      <td>0</td>\n",
       "    </tr>\n",
       "  </tbody>\n",
       "</table>\n",
       "<p>200209 rows × 3 columns</p>\n",
       "</div>"
      ],
      "text/plain": [
       "        user  movie  predicted_rating\n",
       "0       4958   1924                 0\n",
       "1       4958   3264                 0\n",
       "2       4958   2634                 0\n",
       "3       4958   1407                 0\n",
       "4       4958   2399                 0\n",
       "...      ...    ...               ...\n",
       "200204  1875   3793                 0\n",
       "200205  1875   2160                 0\n",
       "200206  1875   1035                 0\n",
       "200207  1875   1580                 0\n",
       "200208  1875    589                 0\n",
       "\n",
       "[200209 rows x 3 columns]"
      ]
     },
     "execution_count": 196,
     "metadata": {},
     "output_type": "execute_result"
    }
   ],
   "source": [
    "full_testset = pd.read_csv(\"./../data/requests.csv\")\n",
    "full_testset['predicted_rating'] = 0\n",
    "full_testset"
   ]
  },
  {
   "cell_type": "code",
   "execution_count": 198,
   "id": "af37f6d6",
   "metadata": {},
   "outputs": [],
   "source": [
    "for idx in full_testset.index:\n",
    "    full_testset.loc[idx, 'predicted_rating'] = model_svd.predict(str(full_testset['user'][idx]), str(full_testset['movie'][idx]))"
   ]
  },
  {
   "cell_type": "code",
   "execution_count": 199,
   "id": "4afb5385",
   "metadata": {},
   "outputs": [
    {
     "data": {
      "text/html": [
       "<div>\n",
       "<style scoped>\n",
       "    .dataframe tbody tr th:only-of-type {\n",
       "        vertical-align: middle;\n",
       "    }\n",
       "\n",
       "    .dataframe tbody tr th {\n",
       "        vertical-align: top;\n",
       "    }\n",
       "\n",
       "    .dataframe thead th {\n",
       "        text-align: right;\n",
       "    }\n",
       "</style>\n",
       "<table border=\"1\" class=\"dataframe\">\n",
       "  <thead>\n",
       "    <tr style=\"text-align: right;\">\n",
       "      <th></th>\n",
       "      <th>user</th>\n",
       "      <th>movie</th>\n",
       "      <th>predicted_rating</th>\n",
       "    </tr>\n",
       "  </thead>\n",
       "  <tbody>\n",
       "    <tr>\n",
       "      <th>0</th>\n",
       "      <td>4958</td>\n",
       "      <td>1924</td>\n",
       "      <td>(4958, 1924, None, 3.5911546875, {'was_impossi...</td>\n",
       "    </tr>\n",
       "    <tr>\n",
       "      <th>1</th>\n",
       "      <td>4958</td>\n",
       "      <td>3264</td>\n",
       "      <td>(4958, 3264, None, 3.5911546875, {'was_impossi...</td>\n",
       "    </tr>\n",
       "    <tr>\n",
       "      <th>2</th>\n",
       "      <td>4958</td>\n",
       "      <td>2634</td>\n",
       "      <td>(4958, 2634, None, 3.5911546875, {'was_impossi...</td>\n",
       "    </tr>\n",
       "    <tr>\n",
       "      <th>3</th>\n",
       "      <td>4958</td>\n",
       "      <td>1407</td>\n",
       "      <td>(4958, 1407, None, 3.5911546875, {'was_impossi...</td>\n",
       "    </tr>\n",
       "    <tr>\n",
       "      <th>4</th>\n",
       "      <td>4958</td>\n",
       "      <td>2399</td>\n",
       "      <td>(4958, 2399, None, 3.5911546875, {'was_impossi...</td>\n",
       "    </tr>\n",
       "    <tr>\n",
       "      <th>...</th>\n",
       "      <td>...</td>\n",
       "      <td>...</td>\n",
       "      <td>...</td>\n",
       "    </tr>\n",
       "    <tr>\n",
       "      <th>200204</th>\n",
       "      <td>1875</td>\n",
       "      <td>3793</td>\n",
       "      <td>(1875, 3793, None, 3.5911546875, {'was_impossi...</td>\n",
       "    </tr>\n",
       "    <tr>\n",
       "      <th>200205</th>\n",
       "      <td>1875</td>\n",
       "      <td>2160</td>\n",
       "      <td>(1875, 2160, None, 3.5911546875, {'was_impossi...</td>\n",
       "    </tr>\n",
       "    <tr>\n",
       "      <th>200206</th>\n",
       "      <td>1875</td>\n",
       "      <td>1035</td>\n",
       "      <td>(1875, 1035, None, 3.5911546875, {'was_impossi...</td>\n",
       "    </tr>\n",
       "    <tr>\n",
       "      <th>200207</th>\n",
       "      <td>1875</td>\n",
       "      <td>1580</td>\n",
       "      <td>(1875, 1580, None, 3.5911546875, {'was_impossi...</td>\n",
       "    </tr>\n",
       "    <tr>\n",
       "      <th>200208</th>\n",
       "      <td>1875</td>\n",
       "      <td>589</td>\n",
       "      <td>(1875, 589, None, 3.5911546875, {'was_impossib...</td>\n",
       "    </tr>\n",
       "  </tbody>\n",
       "</table>\n",
       "<p>200209 rows × 3 columns</p>\n",
       "</div>"
      ],
      "text/plain": [
       "        user  movie                                   predicted_rating\n",
       "0       4958   1924  (4958, 1924, None, 3.5911546875, {'was_impossi...\n",
       "1       4958   3264  (4958, 3264, None, 3.5911546875, {'was_impossi...\n",
       "2       4958   2634  (4958, 2634, None, 3.5911546875, {'was_impossi...\n",
       "3       4958   1407  (4958, 1407, None, 3.5911546875, {'was_impossi...\n",
       "4       4958   2399  (4958, 2399, None, 3.5911546875, {'was_impossi...\n",
       "...      ...    ...                                                ...\n",
       "200204  1875   3793  (1875, 3793, None, 3.5911546875, {'was_impossi...\n",
       "200205  1875   2160  (1875, 2160, None, 3.5911546875, {'was_impossi...\n",
       "200206  1875   1035  (1875, 1035, None, 3.5911546875, {'was_impossi...\n",
       "200207  1875   1580  (1875, 1580, None, 3.5911546875, {'was_impossi...\n",
       "200208  1875    589  (1875, 589, None, 3.5911546875, {'was_impossib...\n",
       "\n",
       "[200209 rows x 3 columns]"
      ]
     },
     "execution_count": 199,
     "metadata": {},
     "output_type": "execute_result"
    }
   ],
   "source": [
    "full_testset"
   ]
  },
  {
   "cell_type": "code",
   "execution_count": null,
   "id": "19f411c9",
   "metadata": {},
   "outputs": [],
   "source": []
  },
  {
   "cell_type": "code",
   "execution_count": null,
   "id": "7b7e3ce0",
   "metadata": {},
   "outputs": [],
   "source": []
  },
  {
   "cell_type": "code",
   "execution_count": null,
   "id": "319dd8a8",
   "metadata": {},
   "outputs": [],
   "source": []
  },
  {
   "cell_type": "code",
   "execution_count": null,
   "id": "fcd686a4",
   "metadata": {},
   "outputs": [],
   "source": []
  },
  {
   "cell_type": "code",
   "execution_count": null,
   "id": "e789e5a0",
   "metadata": {},
   "outputs": [],
   "source": []
  },
  {
   "cell_type": "code",
   "execution_count": null,
   "id": "29d0db95",
   "metadata": {},
   "outputs": [],
   "source": [
    "# zscore_lst.append(\n",
    "#     percentileMetric(\n",
    "#         pd.DataFrame(pred_svd, \n",
    "#         columns=[\"user\", \"movie\", \"actualrating\", \"predictedrating\", \"info\"])))\n",
    "# rmse_lst.append(accuracy.rmse(pred_svd))"
   ]
  },
  {
   "cell_type": "code",
   "execution_count": null,
   "id": "cd9b05dd",
   "metadata": {},
   "outputs": [],
   "source": []
  },
  {
   "cell_type": "code",
   "execution_count": null,
   "id": "2ce18faa",
   "metadata": {},
   "outputs": [],
   "source": []
  }
 ],
 "metadata": {
  "kernelspec": {
   "display_name": "Python 3",
   "language": "python",
   "name": "python3"
  },
  "language_info": {
   "codemirror_mode": {
    "name": "ipython",
    "version": 3
   },
   "file_extension": ".py",
   "mimetype": "text/x-python",
   "name": "python",
   "nbconvert_exporter": "python",
   "pygments_lexer": "ipython3",
   "version": "3.8.10"
  }
 },
 "nbformat": 4,
 "nbformat_minor": 5
}
