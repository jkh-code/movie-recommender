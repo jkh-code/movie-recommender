{
 "cells": [
  {
   "cell_type": "code",
   "execution_count": 1,
   "metadata": {
    "collapsed": true
   },
   "outputs": [],
   "source": [
    "import pandas as pd\n",
    "import matplotlib.pyplot as plt\n",
    "\n",
    "from sklearn.model_selection import train_test_split\n",
    "from scipy.sparse import csr_matrix\n",
    "from src.zss.zss_model1 import ItemItemRecommender\n",
    "\n",
    "plt.style.use(\"ggplot\")\n",
    "plt.rc(\"xtick\", labelsize=22)\n",
    "plt.rc(\"ytick\", labelsize=22)"
   ]
  },
  {
   "cell_type": "code",
   "execution_count": 2,
   "outputs": [],
   "source": [
    "def get_ratings_data():\n",
    "    \"\"\"\n",
    "    Returns:\n",
    "        ratings_contents (dataframe): has columns \"user\", \"movie\", \"rating\"\n",
    "        ratings_as_mat (sparse matrix): rows correspond to users and columns correspond\n",
    "        to movies. Each element is the user's rating for that movie.\n",
    "    \"\"\"\n",
    "    ratings_contents = pd.read_csv(\"../data/training.csv\", low_memory=False).drop(columns=[\"timestamp\"])\n",
    "    ratings_as_mat = csr_matrix((ratings_contents.rating, (ratings_contents.user, ratings_contents.movie)))\n",
    "    return ratings_contents, ratings_as_mat\n",
    "\n",
    "# userRatings = pd.read_csv(\"../data/training.csv\", low_memory=False).drop(columns=[\"timestamp\"])\n",
    "userRatings, userRatingsAsMatrix = get_ratings_data()"
   ],
   "metadata": {
    "collapsed": false,
    "pycharm": {
     "name": "#%%\n"
    }
   }
  },
  {
   "cell_type": "code",
   "execution_count": 3,
   "outputs": [
    {
     "name": "stdout",
     "output_type": "stream",
     "text": [
      "<class 'pandas.core.frame.DataFrame'>\n",
      "RangeIndex: 800000 entries, 0 to 799999\n",
      "Data columns (total 3 columns):\n",
      " #   Column  Non-Null Count   Dtype\n",
      "---  ------  --------------   -----\n",
      " 0   user    800000 non-null  int64\n",
      " 1   movie   800000 non-null  int64\n",
      " 2   rating  800000 non-null  int64\n",
      "dtypes: int64(3)\n",
      "memory usage: 18.3 MB\n"
     ]
    }
   ],
   "source": [
    "userRatings.info()"
   ],
   "metadata": {
    "collapsed": false,
    "pycharm": {
     "name": "#%%\n"
    }
   }
  },
  {
   "cell_type": "code",
   "execution_count": 4,
   "outputs": [
    {
     "data": {
      "text/plain": "   user  movie  rating\n0  6040    858       4\n1  6040    593       5\n2  6040   2384       4\n3  6040   1961       4\n4  6040   2019       5",
      "text/html": "<div>\n<style scoped>\n    .dataframe tbody tr th:only-of-type {\n        vertical-align: middle;\n    }\n\n    .dataframe tbody tr th {\n        vertical-align: top;\n    }\n\n    .dataframe thead th {\n        text-align: right;\n    }\n</style>\n<table border=\"1\" class=\"dataframe\">\n  <thead>\n    <tr style=\"text-align: right;\">\n      <th></th>\n      <th>user</th>\n      <th>movie</th>\n      <th>rating</th>\n    </tr>\n  </thead>\n  <tbody>\n    <tr>\n      <th>0</th>\n      <td>6040</td>\n      <td>858</td>\n      <td>4</td>\n    </tr>\n    <tr>\n      <th>1</th>\n      <td>6040</td>\n      <td>593</td>\n      <td>5</td>\n    </tr>\n    <tr>\n      <th>2</th>\n      <td>6040</td>\n      <td>2384</td>\n      <td>4</td>\n    </tr>\n    <tr>\n      <th>3</th>\n      <td>6040</td>\n      <td>1961</td>\n      <td>4</td>\n    </tr>\n    <tr>\n      <th>4</th>\n      <td>6040</td>\n      <td>2019</td>\n      <td>5</td>\n    </tr>\n  </tbody>\n</table>\n</div>"
     },
     "execution_count": 4,
     "metadata": {},
     "output_type": "execute_result"
    }
   ],
   "source": [
    "userRatings.head()"
   ],
   "metadata": {
    "collapsed": false,
    "pycharm": {
     "name": "#%%\n"
    }
   }
  },
  {
   "cell_type": "code",
   "execution_count": 5,
   "outputs": [],
   "source": [
    "ratings = userRatings.pivot_table(values=\"rating\", index=\"user\", columns=\"movie\")"
   ],
   "metadata": {
    "collapsed": false,
    "pycharm": {
     "name": "#%%\n"
    }
   }
  },
  {
   "cell_type": "code",
   "execution_count": 6,
   "outputs": [
    {
     "name": "stdout",
     "output_type": "stream",
     "text": [
      "Mean number of reviews: 148.17558807186515\n"
     ]
    },
    {
     "data": {
      "text/plain": "<Figure size 720x720 with 1 Axes>",
      "image/png": "[encoded data removed]"
     },
     "metadata": {},
     "output_type": "display_data"
    }
   ],
   "source": [
    "test = (ratings > 0).sum(axis=1)\n",
    "\n",
    "fig, ax = plt.subplots(figsize=(10,10))\n",
    "\n",
    "print(f\"Mean number of reviews: {test.values.mean()}\")\n",
    "ax.hist(test.values, bins=50);"
   ],
   "metadata": {
    "collapsed": false,
    "pycharm": {
     "name": "#%%\n"
    }
   }
  },
  {
   "cell_type": "code",
   "execution_count": 6,
   "outputs": [],
   "source": [],
   "metadata": {
    "collapsed": false,
    "pycharm": {
     "name": "#%%\n"
    }
   }
  },
  {
   "cell_type": "code",
   "execution_count": 7,
   "outputs": [],
   "source": [
    "train, test = train_test_split(userRatings, train_size=0.8)\n",
    "\n",
    "train.reset_index()\n",
    "test.reset_index()\n",
    "\n",
    "rec = ItemItemRecommender(neighborhood_size=75)"
   ],
   "metadata": {
    "collapsed": false,
    "pycharm": {
     "name": "#%%\n"
    }
   }
  },
  {
   "cell_type": "code",
   "execution_count": 8,
   "outputs": [],
   "source": [
    "rec.fit(ratings_mat=userRatingsAsMatrix)"
   ],
   "metadata": {
    "collapsed": false,
    "pycharm": {
     "name": "#%%\n"
    }
   }
  },
  {
   "cell_type": "code",
   "execution_count": null,
   "outputs": [
    {
     "name": "stderr",
     "output_type": "stream",
     "text": [
      "E:\\Galvanize\\Repos\\movie-recommender\\src\\zss\\zss_model1.py:41: RuntimeWarning: invalid value encountered in true_divide\n",
      "  out[item_to_rate] = self.ratings_mat[user_id, relevant_items] * \\\n"
     ]
    },
    {
     "name": "stdout",
     "output_type": "stream",
     "text": [
      "Execution time: 0.595497 seconds\n",
      "Execution time: 0.594498 seconds\n",
      "Execution time: 0.515501 seconds\n",
      "Execution time: 0.545002 seconds\n",
      "Execution time: 0.577502 seconds\n",
      "Execution time: 0.548999 seconds\n",
      "Execution time: 0.505501 seconds\n",
      "Execution time: 0.494501 seconds\n",
      "Execution time: 0.523501 seconds\n",
      "Execution time: 0.504002 seconds\n",
      "Execution time: 0.521001 seconds\n",
      "Execution time: 0.475501 seconds\n",
      "Execution time: 0.514001 seconds\n",
      "Execution time: 0.484502 seconds\n",
      "Execution time: 0.557999 seconds\n",
      "Execution time: 0.560001 seconds\n",
      "Execution time: 0.502501 seconds\n",
      "Execution time: 0.533998 seconds\n",
      "Execution time: 0.508501 seconds\n",
      "Execution time: 0.502000 seconds\n",
      "Execution time: 0.521500 seconds\n",
      "Execution time: 0.562500 seconds\n",
      "Execution time: 0.591001 seconds\n",
      "Execution time: 0.542001 seconds\n",
      "Execution time: 0.511499 seconds\n",
      "Execution time: 0.518500 seconds\n",
      "Execution time: 0.543501 seconds\n",
      "Execution time: 0.588500 seconds\n",
      "Execution time: 0.556501 seconds\n",
      "Execution time: 0.532000 seconds\n",
      "Execution time: 0.550500 seconds\n",
      "Execution time: 0.514997 seconds\n",
      "Execution time: 0.561002 seconds\n",
      "Execution time: 0.513002 seconds\n",
      "Execution time: 0.514001 seconds\n",
      "Execution time: 0.533998 seconds\n",
      "Execution time: 0.549503 seconds\n",
      "Execution time: 0.550999 seconds\n",
      "Execution time: 0.574499 seconds\n",
      "Execution time: 0.516998 seconds\n",
      "Execution time: 0.627500 seconds\n",
      "Execution time: 0.543002 seconds\n",
      "Execution time: 0.548002 seconds\n",
      "Execution time: 0.588002 seconds\n",
      "Execution time: 0.525501 seconds\n",
      "Execution time: 0.546999 seconds\n",
      "Execution time: 0.550002 seconds\n",
      "Execution time: 0.564003 seconds\n",
      "Execution time: 0.565502 seconds\n",
      "Execution time: 0.556501 seconds\n",
      "Execution time: 0.533502 seconds\n",
      "Execution time: 0.549500 seconds\n",
      "Execution time: 0.563000 seconds\n",
      "Execution time: 0.560001 seconds\n",
      "Execution time: 0.528499 seconds\n",
      "Execution time: 0.550500 seconds\n",
      "Execution time: 0.558500 seconds\n",
      "Execution time: 0.536499 seconds\n",
      "Execution time: 0.531497 seconds\n",
      "Execution time: 0.564002 seconds\n",
      "Execution time: 0.529001 seconds\n",
      "Execution time: 0.578000 seconds\n",
      "Execution time: 0.567000 seconds\n",
      "Execution time: 0.582501 seconds\n",
      "Execution time: 0.552502 seconds\n",
      "Execution time: 0.574001 seconds\n",
      "Execution time: 0.520499 seconds\n",
      "Execution time: 0.536498 seconds\n",
      "Execution time: 0.534000 seconds\n",
      "Execution time: 0.541999 seconds\n",
      "Execution time: 0.658001 seconds\n",
      "Execution time: 0.560499 seconds\n",
      "Execution time: 0.589498 seconds\n",
      "Execution time: 0.549999 seconds\n",
      "Execution time: 0.535500 seconds\n",
      "Execution time: 0.542500 seconds\n",
      "Execution time: 0.503499 seconds\n",
      "Execution time: 0.545000 seconds\n",
      "Execution time: 0.571500 seconds\n",
      "Execution time: 0.526003 seconds\n",
      "Execution time: 0.553001 seconds\n",
      "Execution time: 0.492001 seconds\n",
      "Execution time: 0.599002 seconds\n",
      "Execution time: 0.658500 seconds\n",
      "Execution time: 0.502001 seconds\n",
      "Execution time: 0.526499 seconds\n",
      "Execution time: 0.541002 seconds\n",
      "Execution time: 0.528500 seconds\n",
      "Execution time: 0.592500 seconds\n",
      "Execution time: 0.524000 seconds\n",
      "Execution time: 0.513003 seconds\n",
      "Execution time: 0.558001 seconds\n",
      "Execution time: 0.546999 seconds\n",
      "Execution time: 0.540499 seconds\n",
      "Execution time: 0.528503 seconds\n",
      "Execution time: 0.544000 seconds\n",
      "Execution time: 0.554998 seconds\n",
      "Execution time: 0.558500 seconds\n",
      "Execution time: 0.522000 seconds\n",
      "Execution time: 0.516502 seconds\n",
      "Execution time: 0.531501 seconds\n",
      "Execution time: 0.534001 seconds\n",
      "Execution time: 0.508500 seconds\n",
      "Execution time: 0.551001 seconds\n",
      "Execution time: 0.489499 seconds\n",
      "Execution time: 0.572500 seconds\n",
      "Execution time: 0.566000 seconds\n",
      "Execution time: 0.543501 seconds\n",
      "Execution time: 0.532001 seconds\n",
      "Execution time: 0.515498 seconds\n",
      "Execution time: 0.550501 seconds\n",
      "Execution time: 0.541500 seconds\n",
      "Execution time: 0.540500 seconds\n",
      "Execution time: 0.526999 seconds\n",
      "Execution time: 0.491500 seconds\n",
      "Execution time: 0.562999 seconds\n",
      "Execution time: 0.507499 seconds\n",
      "Execution time: 0.552999 seconds\n",
      "Execution time: 0.531000 seconds\n",
      "Execution time: 0.548998 seconds\n",
      "Execution time: 0.539498 seconds\n",
      "Execution time: 0.530501 seconds\n",
      "Execution time: 0.539498 seconds\n",
      "Execution time: 0.557499 seconds\n",
      "Execution time: 0.535003 seconds\n",
      "Execution time: 0.490501 seconds\n",
      "Execution time: 0.564003 seconds\n",
      "Execution time: 0.558500 seconds\n",
      "Execution time: 0.536502 seconds\n",
      "Execution time: 0.538498 seconds\n",
      "Execution time: 0.545001 seconds\n",
      "Execution time: 0.538500 seconds\n",
      "Execution time: 0.514999 seconds\n",
      "Execution time: 0.568500 seconds\n",
      "Execution time: 0.561500 seconds\n",
      "Execution time: 0.521501 seconds\n",
      "Execution time: 0.540002 seconds\n",
      "Execution time: 0.516003 seconds\n",
      "Execution time: 0.580001 seconds\n",
      "Execution time: 0.552499 seconds\n",
      "Execution time: 0.523004 seconds\n",
      "Execution time: 0.523500 seconds\n",
      "Execution time: 0.556998 seconds\n",
      "Execution time: 0.540501 seconds\n",
      "Execution time: 0.560998 seconds\n",
      "Execution time: 0.521500 seconds\n",
      "Execution time: 0.593001 seconds\n",
      "Execution time: 0.515500 seconds\n",
      "Execution time: 0.624001 seconds\n",
      "Execution time: 0.495500 seconds\n",
      "Execution time: 0.551998 seconds\n",
      "Execution time: 0.530498 seconds\n",
      "Execution time: 0.565998 seconds\n",
      "Execution time: 0.569000 seconds\n",
      "Execution time: 0.520999 seconds\n",
      "Execution time: 0.500503 seconds\n",
      "Execution time: 0.513000 seconds\n",
      "Execution time: 0.542998 seconds\n",
      "Execution time: 0.513499 seconds\n",
      "Execution time: 0.518499 seconds\n",
      "Execution time: 0.496500 seconds\n",
      "Execution time: 0.489501 seconds\n",
      "Execution time: 0.547501 seconds\n",
      "Execution time: 0.541500 seconds\n",
      "Execution time: 0.529001 seconds\n",
      "Execution time: 0.559501 seconds\n",
      "Execution time: 0.553002 seconds\n",
      "Execution time: 0.510499 seconds\n",
      "Execution time: 0.527999 seconds\n",
      "Execution time: 0.509001 seconds\n",
      "Execution time: 0.547000 seconds\n",
      "Execution time: 0.483002 seconds\n",
      "Execution time: 0.557500 seconds\n",
      "Execution time: 0.563000 seconds\n",
      "Execution time: 0.561001 seconds\n",
      "Execution time: 0.530500 seconds\n",
      "Execution time: 0.543500 seconds\n",
      "Execution time: 0.529998 seconds\n",
      "Execution time: 0.552500 seconds\n",
      "Execution time: 0.560501 seconds\n",
      "Execution time: 0.528501 seconds\n",
      "Execution time: 0.526000 seconds\n",
      "Execution time: 0.517500 seconds\n",
      "Execution time: 0.574002 seconds\n",
      "Execution time: 0.647000 seconds\n",
      "Execution time: 0.578002 seconds\n",
      "Execution time: 0.551500 seconds\n",
      "Execution time: 0.517499 seconds\n",
      "Execution time: 0.552498 seconds\n",
      "Execution time: 0.521501 seconds\n",
      "Execution time: 0.515499 seconds\n",
      "Execution time: 0.538998 seconds\n",
      "Execution time: 0.536002 seconds\n",
      "Execution time: 0.544000 seconds\n",
      "Execution time: 0.524999 seconds\n",
      "Execution time: 0.484000 seconds\n",
      "Execution time: 0.563500 seconds\n",
      "Execution time: 0.524499 seconds\n",
      "Execution time: 0.562499 seconds\n",
      "Execution time: 0.534999 seconds\n",
      "Execution time: 0.514503 seconds\n",
      "Execution time: 0.554499 seconds\n",
      "Execution time: 0.527998 seconds\n",
      "Execution time: 0.543000 seconds\n",
      "Execution time: 0.550999 seconds\n",
      "Execution time: 0.551501 seconds\n",
      "Execution time: 0.512500 seconds\n",
      "Execution time: 0.539500 seconds\n",
      "Execution time: 0.557500 seconds\n",
      "Execution time: 0.501500 seconds\n",
      "Execution time: 0.525000 seconds\n",
      "Execution time: 0.501504 seconds\n",
      "Execution time: 0.618001 seconds\n",
      "Execution time: 0.658499 seconds\n",
      "Execution time: 0.554502 seconds\n",
      "Execution time: 0.575501 seconds\n",
      "Execution time: 0.602502 seconds\n",
      "Execution time: 0.593500 seconds\n",
      "Execution time: 0.566000 seconds\n",
      "Execution time: 0.579500 seconds\n",
      "Execution time: 0.615002 seconds\n",
      "Execution time: 0.571998 seconds\n",
      "Execution time: 0.575500 seconds\n",
      "Execution time: 0.551001 seconds\n",
      "Execution time: 0.537499 seconds\n",
      "Execution time: 0.572499 seconds\n",
      "Execution time: 0.532001 seconds\n",
      "Execution time: 0.517501 seconds\n",
      "Execution time: 0.534001 seconds\n",
      "Execution time: 0.533000 seconds\n",
      "Execution time: 0.538999 seconds\n",
      "Execution time: 0.530999 seconds\n",
      "Execution time: 0.516000 seconds\n",
      "Execution time: 0.558501 seconds\n",
      "Execution time: 0.585499 seconds\n",
      "Execution time: 0.546995 seconds\n",
      "Execution time: 0.515499 seconds\n",
      "Execution time: 0.484999 seconds\n",
      "Execution time: 0.557502 seconds\n",
      "Execution time: 0.518000 seconds\n",
      "Execution time: 0.547499 seconds\n",
      "Execution time: 0.552502 seconds\n",
      "Execution time: 0.558499 seconds\n",
      "Execution time: 0.522502 seconds\n",
      "Execution time: 0.555501 seconds\n",
      "Execution time: 0.502501 seconds\n",
      "Execution time: 0.502501 seconds\n",
      "Execution time: 0.549501 seconds\n",
      "Execution time: 0.519998 seconds\n",
      "Execution time: 0.545002 seconds\n",
      "Execution time: 0.493000 seconds\n",
      "Execution time: 0.519500 seconds\n",
      "Execution time: 0.518499 seconds\n",
      "Execution time: 0.544002 seconds\n",
      "Execution time: 0.548500 seconds\n",
      "Execution time: 0.545997 seconds\n",
      "Execution time: 0.629000 seconds\n",
      "Execution time: 0.522500 seconds\n",
      "Execution time: 0.546500 seconds\n",
      "Execution time: 0.501002 seconds\n",
      "Execution time: 0.527500 seconds\n",
      "Execution time: 0.539502 seconds\n",
      "Execution time: 0.586503 seconds\n",
      "Execution time: 0.554999 seconds\n",
      "Execution time: 0.538001 seconds\n",
      "Execution time: 0.550999 seconds\n",
      "Execution time: 0.541999 seconds\n",
      "Execution time: 0.570501 seconds\n",
      "Execution time: 0.632502 seconds\n",
      "Execution time: 0.602500 seconds\n",
      "Execution time: 0.624499 seconds\n",
      "Execution time: 0.562500 seconds\n",
      "Execution time: 0.564000 seconds\n",
      "Execution time: 0.509500 seconds\n",
      "Execution time: 0.578000 seconds\n",
      "Execution time: 0.643501 seconds\n",
      "Execution time: 0.521001 seconds\n",
      "Execution time: 0.563000 seconds\n",
      "Execution time: 0.539499 seconds\n",
      "Execution time: 0.543999 seconds\n",
      "Execution time: 0.530500 seconds\n",
      "Execution time: 0.538000 seconds\n",
      "Execution time: 0.549499 seconds\n",
      "Execution time: 0.513000 seconds\n",
      "Execution time: 0.568501 seconds\n",
      "Execution time: 0.565001 seconds\n",
      "Execution time: 0.568500 seconds\n",
      "Execution time: 0.579001 seconds\n",
      "Execution time: 0.577498 seconds\n",
      "Execution time: 0.521501 seconds\n",
      "Execution time: 0.543000 seconds\n",
      "Execution time: 0.510501 seconds\n",
      "Execution time: 0.559999 seconds\n",
      "Execution time: 0.562999 seconds\n",
      "Execution time: 0.545000 seconds\n",
      "Execution time: 0.531499 seconds\n",
      "Execution time: 0.531499 seconds\n",
      "Execution time: 0.533503 seconds\n",
      "Execution time: 0.529000 seconds\n",
      "Execution time: 0.526500 seconds\n",
      "Execution time: 0.538501 seconds\n",
      "Execution time: 0.529500 seconds\n",
      "Execution time: 0.516499 seconds\n",
      "Execution time: 0.538000 seconds\n",
      "Execution time: 0.525499 seconds\n",
      "Execution time: 0.541502 seconds\n",
      "Execution time: 0.571001 seconds\n",
      "Execution time: 0.538499 seconds\n",
      "Execution time: 0.495498 seconds\n",
      "Execution time: 0.530999 seconds\n",
      "Execution time: 0.486504 seconds\n",
      "Execution time: 0.500499 seconds\n",
      "Execution time: 0.501498 seconds\n",
      "Execution time: 0.514999 seconds\n",
      "Execution time: 0.570000 seconds\n",
      "Execution time: 0.526000 seconds\n",
      "Execution time: 0.557500 seconds\n",
      "Execution time: 0.536501 seconds\n",
      "Execution time: 0.509001 seconds\n",
      "Execution time: 0.556000 seconds\n",
      "Execution time: 0.545502 seconds\n",
      "Execution time: 0.536500 seconds\n",
      "Execution time: 0.511501 seconds\n",
      "Execution time: 0.504500 seconds\n",
      "Execution time: 0.478501 seconds\n",
      "Execution time: 0.498499 seconds\n",
      "Execution time: 0.514003 seconds\n",
      "Execution time: 0.493000 seconds\n",
      "Execution time: 0.501001 seconds\n",
      "Execution time: 0.596998 seconds\n",
      "Execution time: 0.505500 seconds\n",
      "Execution time: 0.527001 seconds\n",
      "Execution time: 0.575997 seconds\n",
      "Execution time: 0.540501 seconds\n",
      "Execution time: 0.519502 seconds\n",
      "Execution time: 0.547999 seconds\n",
      "Execution time: 0.510999 seconds\n",
      "Execution time: 0.551998 seconds\n",
      "Execution time: 0.501500 seconds\n",
      "Execution time: 0.549999 seconds\n",
      "Execution time: 0.516000 seconds\n",
      "Execution time: 0.472001 seconds\n",
      "Execution time: 0.478500 seconds\n",
      "Execution time: 0.574499 seconds\n",
      "Execution time: 0.531000 seconds\n",
      "Execution time: 0.496005 seconds\n",
      "Execution time: 0.528998 seconds\n",
      "Execution time: 0.476501 seconds\n",
      "Execution time: 0.480502 seconds\n",
      "Execution time: 0.524501 seconds\n",
      "Execution time: 0.516000 seconds\n",
      "Execution time: 0.529002 seconds\n",
      "Execution time: 0.511498 seconds\n",
      "Execution time: 0.526998 seconds\n",
      "Execution time: 0.520500 seconds\n",
      "Execution time: 0.475500 seconds\n",
      "Execution time: 0.553000 seconds\n",
      "Execution time: 0.477001 seconds\n",
      "Execution time: 0.547498 seconds\n",
      "Execution time: 0.536999 seconds\n",
      "Execution time: 0.511001 seconds\n",
      "Execution time: 0.508501 seconds\n",
      "Execution time: 0.564001 seconds\n",
      "Execution time: 0.528000 seconds\n",
      "Execution time: 0.558498 seconds\n",
      "Execution time: 0.572500 seconds\n",
      "Execution time: 0.511500 seconds\n",
      "Execution time: 0.528502 seconds\n",
      "Execution time: 0.534500 seconds\n",
      "Execution time: 0.532501 seconds\n",
      "Execution time: 0.529999 seconds\n",
      "Execution time: 0.526001 seconds\n",
      "Execution time: 0.510000 seconds\n",
      "Execution time: 0.549500 seconds\n",
      "Execution time: 0.516002 seconds\n",
      "Execution time: 0.496500 seconds\n",
      "Execution time: 0.547500 seconds\n",
      "Execution time: 0.520000 seconds\n",
      "Execution time: 0.525001 seconds\n",
      "Execution time: 0.547000 seconds\n",
      "Execution time: 0.502999 seconds\n",
      "Execution time: 0.523001 seconds\n",
      "Execution time: 0.561500 seconds\n",
      "Execution time: 0.521002 seconds\n",
      "Execution time: 0.520500 seconds\n",
      "Execution time: 0.516999 seconds\n",
      "Execution time: 0.542001 seconds\n",
      "Execution time: 0.498500 seconds\n",
      "Execution time: 0.493502 seconds\n",
      "Execution time: 0.488501 seconds\n",
      "Execution time: 0.556999 seconds\n",
      "Execution time: 0.539001 seconds\n",
      "Execution time: 0.545001 seconds\n",
      "Execution time: 0.518002 seconds\n",
      "Execution time: 0.503499 seconds\n",
      "Execution time: 0.498499 seconds\n",
      "Execution time: 0.489501 seconds\n",
      "Execution time: 0.495497 seconds\n",
      "Execution time: 0.543503 seconds\n",
      "Execution time: 0.531499 seconds\n",
      "Execution time: 0.503501 seconds\n",
      "Execution time: 0.503498 seconds\n",
      "Execution time: 0.503498 seconds\n",
      "Execution time: 0.509001 seconds\n",
      "Execution time: 0.510497 seconds\n",
      "Execution time: 0.534002 seconds\n",
      "Execution time: 0.541000 seconds\n",
      "Execution time: 0.524001 seconds\n",
      "Execution time: 0.517498 seconds\n",
      "Execution time: 0.503496 seconds\n",
      "Execution time: 0.507000 seconds\n",
      "Execution time: 0.534000 seconds\n",
      "Execution time: 0.620001 seconds\n",
      "Execution time: 0.572001 seconds\n"
     ]
    }
   ],
   "source": [
    "for user in range(rec.n_users):\n",
    "    rec.top_n_recs(user_id=user, n=rec.n_items, report_run_time=True)"
   ],
   "metadata": {
    "collapsed": false,
    "pycharm": {
     "name": "#%%\n",
     "is_executing": true
    }
   }
  },
  {
   "cell_type": "code",
   "execution_count": 10,
   "outputs": [
    {
     "data": {
      "text/plain": "3953"
     },
     "execution_count": 10,
     "metadata": {},
     "output_type": "execute_result"
    }
   ],
   "source": [
    "rec.n_users\n",
    "rec.n_items\n",
    "\n",
    "# rec.pred_all_users()"
   ],
   "metadata": {
    "collapsed": false,
    "pycharm": {
     "name": "#%%\n"
    }
   }
  },
  {
   "cell_type": "code",
   "execution_count": 10,
   "outputs": [],
   "source": [],
   "metadata": {
    "collapsed": false,
    "pycharm": {
     "name": "#%%\n"
    }
   }
  }
 ],
 "metadata": {
  "kernelspec": {
   "display_name": "Python 3",
   "language": "python",
   "name": "python3"
  },
  "language_info": {
   "codemirror_mode": {
    "name": "ipython",
    "version": 2
   },
   "file_extension": ".py",
   "mimetype": "text/x-python",
   "name": "python",
   "nbconvert_exporter": "python",
   "pygments_lexer": "ipython2",
   "version": "2.7.6"
  }
 },
 "nbformat": 4,
 "nbformat_minor": 0
}