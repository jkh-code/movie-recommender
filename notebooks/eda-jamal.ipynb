{
 "cells": [
  {
   "cell_type": "markdown",
   "id": "dad93616",
   "metadata": {},
   "source": [
    "# EDA (Jamal)"
   ]
  },
  {
   "cell_type": "code",
   "execution_count": 1,
   "id": "aa4ee940",
   "metadata": {},
   "outputs": [],
   "source": [
    "import pandas as pd\n",
    "import numpy as np"
   ]
  },
  {
   "cell_type": "markdown",
   "id": "baa3847e",
   "metadata": {},
   "source": [
    "## Loading data"
   ]
  },
  {
   "cell_type": "code",
   "execution_count": 2,
   "id": "90fc83bf",
   "metadata": {},
   "outputs": [
    {
     "name": "stdout",
     "output_type": "stream",
     "text": [
      "1::Toy Story (1995)::Animation|Children's|Comedy\r\n",
      "2::Jumanji (1995)::Adventure|Children's|Fantasy\r\n",
      "3::Grumpier Old Men (1995)::Comedy|Romance\r\n",
      "4::Waiting to Exhale (1995)::Comedy|Drama\r\n",
      "5::Father of the Bride Part II (1995)::Comedy\r\n"
     ]
    }
   ],
   "source": [
    "!head -5 ./../data/movies.dat"
   ]
  },
  {
   "cell_type": "code",
   "execution_count": 3,
   "id": "d1daa2e4",
   "metadata": {},
   "outputs": [
    {
     "name": "stdout",
     "output_type": "stream",
     "text": [
      "1::F::1::10::48067\r\n",
      "2::M::56::16::70072\r\n",
      "3::M::25::15::55117\r\n",
      "4::M::45::7::02460\r\n",
      "5::M::25::20::55455\r\n"
     ]
    }
   ],
   "source": [
    "!head -5 ./../data/users.dat"
   ]
  },
  {
   "cell_type": "code",
   "execution_count": 4,
   "id": "5e467cc6",
   "metadata": {},
   "outputs": [
    {
     "name": "stdout",
     "output_type": "stream",
     "text": [
      "user,movie,rating,timestamp\r\n",
      "6040,858,4,956703932\r\n",
      "6040,593,5,956703954\r\n",
      "6040,2384,4,956703954\r\n",
      "6040,1961,4,956703977\r\n"
     ]
    }
   ],
   "source": [
    "!head -5 ./../data/training.csv"
   ]
  },
  {
   "cell_type": "code",
   "execution_count": 5,
   "id": "fa0e6093",
   "metadata": {},
   "outputs": [
    {
     "name": "stdout",
     "output_type": "stream",
     "text": [
      "user,movie\r\n",
      "4958,1924\r\n",
      "4958,3264\r\n",
      "4958,2634\r\n",
      "4958,1407\r\n"
     ]
    }
   ],
   "source": [
    "!head -5 ./../data/requests.csv"
   ]
  },
  {
   "cell_type": "code",
   "execution_count": null,
   "id": "58b24bcb",
   "metadata": {},
   "outputs": [],
   "source": []
  },
  {
   "cell_type": "code",
   "execution_count": null,
   "id": "fdfb2522",
   "metadata": {},
   "outputs": [],
   "source": []
  },
  {
   "cell_type": "code",
   "execution_count": null,
   "id": "52db13c7",
   "metadata": {},
   "outputs": [],
   "source": []
  },
  {
   "cell_type": "code",
   "execution_count": null,
   "id": "18c19c73",
   "metadata": {},
   "outputs": [],
   "source": []
  }
 ],
 "metadata": {
  "kernelspec": {
   "display_name": "Python 3",
   "language": "python",
   "name": "python3"
  },
  "language_info": {
   "codemirror_mode": {
    "name": "ipython",
    "version": 3
   },
   "file_extension": ".py",
   "mimetype": "text/x-python",
   "name": "python",
   "nbconvert_exporter": "python",
   "pygments_lexer": "ipython3",
   "version": "3.8.10"
  }
 },
 "nbformat": 4,
 "nbformat_minor": 5
}
