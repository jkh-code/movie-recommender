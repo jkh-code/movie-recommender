{
 "cells": [
  {
   "cell_type": "code",
   "execution_count": 48,
   "id": "0b5abff6",
   "metadata": {},
   "outputs": [],
   "source": [
    "import pandas as pd\n",
    "from surprise import SVD, SVDpp\n",
    "from surprise import Dataset\n",
    "from surprise.model_selection import cross_validate\n",
    "from surprise import accuracy\n",
    "from surprise.model_selection import train_test_split\n",
    "from surprise import NormalPredictor\n",
    "from surprise import Reader\n",
    "from surprise.prediction_algorithms.knns import KNNBasic\n",
    "from surprise.prediction_algorithms.matrix_factorization import NMF\n",
    "import sys\n",
    "sys.path.append(\"./../\")\n",
    "from src.utils import percentileMetric\n",
    "from surprise.prediction_algorithms.co_clustering import CoClustering\n",
    "from surprise.dataset import DatasetAutoFolds"
   ]
  },
  {
   "cell_type": "code",
   "execution_count": 37,
   "id": "60bdca98",
   "metadata": {},
   "outputs": [],
   "source": [
    "training = pd.read_csv('../data/training.csv')"
   ]
  },
  {
   "cell_type": "code",
   "execution_count": 54,
   "id": "e80b07ed",
   "metadata": {},
   "outputs": [],
   "source": [
    "full_testset = pd.read_csv('../data/requests.csv')"
   ]
  },
  {
   "cell_type": "code",
   "execution_count": 38,
   "id": "44fd5187",
   "metadata": {},
   "outputs": [],
   "source": [
    "training.drop(columns='timestamp', inplace=True)"
   ]
  },
  {
   "cell_type": "code",
   "execution_count": 42,
   "id": "df96127e",
   "metadata": {},
   "outputs": [
    {
     "name": "stdout",
     "output_type": "stream",
     "text": [
      "<class 'pandas.core.frame.DataFrame'>\n",
      "RangeIndex: 800000 entries, 0 to 799999\n",
      "Data columns (total 3 columns):\n",
      " #   Column  Non-Null Count   Dtype\n",
      "---  ------  --------------   -----\n",
      " 0   user    800000 non-null  int64\n",
      " 1   movie   800000 non-null  int64\n",
      " 2   rating  800000 non-null  int64\n",
      "dtypes: int64(3)\n",
      "memory usage: 18.3 MB\n"
     ]
    }
   ],
   "source": [
    "training.info()"
   ]
  },
  {
   "cell_type": "code",
   "execution_count": 5,
   "id": "fdaf2273",
   "metadata": {},
   "outputs": [],
   "source": [
    "tuner = training.sample(n=100000, axis=0)"
   ]
  },
  {
   "cell_type": "code",
   "execution_count": 6,
   "id": "0bd2a9d8",
   "metadata": {},
   "outputs": [
    {
     "data": {
      "text/html": [
       "<div>\n",
       "<style scoped>\n",
       "    .dataframe tbody tr th:only-of-type {\n",
       "        vertical-align: middle;\n",
       "    }\n",
       "\n",
       "    .dataframe tbody tr th {\n",
       "        vertical-align: top;\n",
       "    }\n",
       "\n",
       "    .dataframe thead th {\n",
       "        text-align: right;\n",
       "    }\n",
       "</style>\n",
       "<table border=\"1\" class=\"dataframe\">\n",
       "  <thead>\n",
       "    <tr style=\"text-align: right;\">\n",
       "      <th></th>\n",
       "      <th>user</th>\n",
       "      <th>movie</th>\n",
       "      <th>rating</th>\n",
       "    </tr>\n",
       "  </thead>\n",
       "  <tbody>\n",
       "    <tr>\n",
       "      <th>235918</th>\n",
       "      <td>4369</td>\n",
       "      <td>1957</td>\n",
       "      <td>4</td>\n",
       "    </tr>\n",
       "    <tr>\n",
       "      <th>399028</th>\n",
       "      <td>3383</td>\n",
       "      <td>1296</td>\n",
       "      <td>5</td>\n",
       "    </tr>\n",
       "    <tr>\n",
       "      <th>747768</th>\n",
       "      <td>910</td>\n",
       "      <td>2124</td>\n",
       "      <td>3</td>\n",
       "    </tr>\n",
       "    <tr>\n",
       "      <th>547941</th>\n",
       "      <td>2379</td>\n",
       "      <td>527</td>\n",
       "      <td>5</td>\n",
       "    </tr>\n",
       "    <tr>\n",
       "      <th>546303</th>\n",
       "      <td>2391</td>\n",
       "      <td>3918</td>\n",
       "      <td>2</td>\n",
       "    </tr>\n",
       "    <tr>\n",
       "      <th>...</th>\n",
       "      <td>...</td>\n",
       "      <td>...</td>\n",
       "      <td>...</td>\n",
       "    </tr>\n",
       "    <tr>\n",
       "      <th>794029</th>\n",
       "      <td>1117</td>\n",
       "      <td>1042</td>\n",
       "      <td>2</td>\n",
       "    </tr>\n",
       "    <tr>\n",
       "      <th>269698</th>\n",
       "      <td>4111</td>\n",
       "      <td>1299</td>\n",
       "      <td>4</td>\n",
       "    </tr>\n",
       "    <tr>\n",
       "      <th>788204</th>\n",
       "      <td>689</td>\n",
       "      <td>168</td>\n",
       "      <td>3</td>\n",
       "    </tr>\n",
       "    <tr>\n",
       "      <th>661764</th>\n",
       "      <td>1943</td>\n",
       "      <td>1259</td>\n",
       "      <td>5</td>\n",
       "    </tr>\n",
       "    <tr>\n",
       "      <th>277047</th>\n",
       "      <td>4085</td>\n",
       "      <td>786</td>\n",
       "      <td>4</td>\n",
       "    </tr>\n",
       "  </tbody>\n",
       "</table>\n",
       "<p>100000 rows × 3 columns</p>\n",
       "</div>"
      ],
      "text/plain": [
       "        user  movie  rating\n",
       "235918  4369   1957       4\n",
       "399028  3383   1296       5\n",
       "747768   910   2124       3\n",
       "547941  2379    527       5\n",
       "546303  2391   3918       2\n",
       "...      ...    ...     ...\n",
       "794029  1117   1042       2\n",
       "269698  4111   1299       4\n",
       "788204   689    168       3\n",
       "661764  1943   1259       5\n",
       "277047  4085    786       4\n",
       "\n",
       "[100000 rows x 3 columns]"
      ]
     },
     "execution_count": 6,
     "metadata": {},
     "output_type": "execute_result"
    }
   ],
   "source": [
    "tuner"
   ]
  },
  {
   "cell_type": "code",
   "execution_count": 7,
   "id": "7d6674e2",
   "metadata": {},
   "outputs": [],
   "source": [
    "reader = Reader(rating_scale=(1, 5))\n",
    "tuner_suprise = Dataset.load_from_df(tuner, reader)"
   ]
  },
  {
   "cell_type": "code",
   "execution_count": 8,
   "id": "872e2d61",
   "metadata": {},
   "outputs": [],
   "source": [
    "tuner_train, tuner_test = train_test_split(tuner_suprise, test_size=.25)"
   ]
  },
  {
   "cell_type": "code",
   "execution_count": 10,
   "id": "74bdf36f",
   "metadata": {},
   "outputs": [
    {
     "name": "stdout",
     "output_type": "stream",
     "text": [
      "RMSE: 0.9535\n",
      "The Snyder Metric: 4.028195887216451\n"
     ]
    }
   ],
   "source": [
    "algo = SVDpp()\n",
    "\n",
    "algo.fit(tuner_train)\n",
    "predictions = algo.test(tuner_test)\n",
    "\n",
    "accuracy.rmse(predictions)\n",
    "\n",
    "pred_df = pd.DataFrame(data=predictions, columns=('user','movie','actualrating','predictedrating','details'))\n",
    "print('The Snyder Metric:', percentileMetric(pred_df))"
   ]
  },
  {
   "cell_type": "code",
   "execution_count": 11,
   "id": "90b277d5",
   "metadata": {},
   "outputs": [
    {
     "name": "stdout",
     "output_type": "stream",
     "text": [
      "RMSE: 1.0139\n",
      "The Snyder Metric: 3.9691686157771637\n"
     ]
    }
   ],
   "source": [
    "algo = SVDpp(n_epochs=50)\n",
    "\n",
    "algo.fit(tuner_train)\n",
    "predictions = algo.test(tuner_test)\n",
    "\n",
    "accuracy.rmse(predictions)\n",
    "\n",
    "pred_df = pd.DataFrame(data=predictions, columns=('user','movie','actualrating','predictedrating','details'))\n",
    "print('The Snyder Metric:', percentileMetric(pred_df))"
   ]
  },
  {
   "cell_type": "code",
   "execution_count": 12,
   "id": "34dfe709",
   "metadata": {},
   "outputs": [
    {
     "name": "stdout",
     "output_type": "stream",
     "text": [
      "RMSE: 0.9536\n",
      "The Snyder Metric: 4.051906779661017\n"
     ]
    }
   ],
   "source": [
    "algo = SVDpp(n_epochs=10)\n",
    "\n",
    "algo.fit(tuner_train)\n",
    "predictions = algo.test(tuner_test)\n",
    "\n",
    "accuracy.rmse(predictions)\n",
    "\n",
    "pred_df = pd.DataFrame(data=predictions, columns=('user','movie','actualrating','predictedrating','details'))\n",
    "print('The Snyder Metric:', percentileMetric(pred_df))"
   ]
  },
  {
   "cell_type": "code",
   "execution_count": 13,
   "id": "66ec4949",
   "metadata": {},
   "outputs": [
    {
     "name": "stdout",
     "output_type": "stream",
     "text": [
      "RMSE: 0.9702\n",
      "The Snyder Metric: 4.055049756510693\n"
     ]
    }
   ],
   "source": [
    "algo = SVDpp(n_epochs=5)\n",
    "\n",
    "algo.fit(tuner_train)\n",
    "predictions = algo.test(tuner_test)\n",
    "\n",
    "accuracy.rmse(predictions)\n",
    "\n",
    "pred_df = pd.DataFrame(data=predictions, columns=('user','movie','actualrating','predictedrating','details'))\n",
    "print('The Snyder Metric:', percentileMetric(pred_df))"
   ]
  },
  {
   "cell_type": "code",
   "execution_count": 21,
   "id": "127fed94",
   "metadata": {},
   "outputs": [
    {
     "name": "stdout",
     "output_type": "stream",
     "text": [
      "RMSE: 0.9779\n",
      "The Snyder Metric: 4.04996824052509\n"
     ]
    }
   ],
   "source": [
    "algo = SVDpp(n_epochs=4)\n",
    "\n",
    "algo.fit(tuner_train)\n",
    "predictions = algo.test(tuner_test)\n",
    "\n",
    "accuracy.rmse(predictions)\n",
    "\n",
    "pred_df = pd.DataFrame(data=predictions, columns=('user','movie','actualrating','predictedrating','details'))\n",
    "print('The Snyder Metric:', percentileMetric(pred_df))"
   ]
  },
  {
   "cell_type": "code",
   "execution_count": 22,
   "id": "1e52afc9",
   "metadata": {},
   "outputs": [
    {
     "name": "stdout",
     "output_type": "stream",
     "text": [
      "RMSE: 0.9650\n",
      "The Snyder Metric: 4.052932458183358\n"
     ]
    }
   ],
   "source": [
    "algo = SVDpp(n_epochs=6)\n",
    "\n",
    "algo.fit(tuner_train)\n",
    "predictions = algo.test(tuner_test)\n",
    "\n",
    "accuracy.rmse(predictions)\n",
    "\n",
    "pred_df = pd.DataFrame(data=predictions, columns=('user','movie','actualrating','predictedrating','details'))\n",
    "print('The Snyder Metric:', percentileMetric(pred_df))"
   ]
  },
  {
   "cell_type": "code",
   "execution_count": 20,
   "id": "54e900ed",
   "metadata": {},
   "outputs": [
    {
     "name": "stdout",
     "output_type": "stream",
     "text": [
      "RMSE: 1.0412\n",
      "The Snyder Metric: 4.030277366080881\n"
     ]
    }
   ],
   "source": [
    "algo = SVDpp(n_epochs=1)\n",
    "\n",
    "algo.fit(tuner_train)\n",
    "predictions = algo.test(tuner_test)\n",
    "\n",
    "accuracy.rmse(predictions)\n",
    "\n",
    "pred_df = pd.DataFrame(data=predictions, columns=('user','movie','actualrating','predictedrating','details'))\n",
    "print('The Snyder Metric:', percentileMetric(pred_df))"
   ]
  },
  {
   "cell_type": "code",
   "execution_count": 14,
   "id": "7149f1d2",
   "metadata": {},
   "outputs": [
    {
     "name": "stdout",
     "output_type": "stream",
     "text": [
      "RMSE: 0.9576\n",
      "The Snyder Metric: 4.038371846512614\n"
     ]
    }
   ],
   "source": [
    "algo = SVDpp(n_factors=40)\n",
    "\n",
    "algo.fit(tuner_train)\n",
    "predictions = algo.test(tuner_test)\n",
    "\n",
    "accuracy.rmse(predictions)\n",
    "\n",
    "pred_df = pd.DataFrame(data=predictions, columns=('user','movie','actualrating','predictedrating','details'))\n",
    "print('The Snyder Metric:', percentileMetric(pred_df))"
   ]
  },
  {
   "cell_type": "code",
   "execution_count": 23,
   "id": "c9084471",
   "metadata": {},
   "outputs": [
    {
     "name": "stdout",
     "output_type": "stream",
     "text": [
      "RMSE: 0.9695\n",
      "The Snyder Metric: 4.059496082998095\n"
     ]
    }
   ],
   "source": [
    "algo = SVDpp(n_factors=10, n_epochs=5)\n",
    "\n",
    "algo.fit(tuner_train)\n",
    "predictions = algo.test(tuner_test)\n",
    "\n",
    "accuracy.rmse(predictions)\n",
    "\n",
    "pred_df = pd.DataFrame(data=predictions, columns=('user','movie','actualrating','predictedrating','details'))\n",
    "print('The Snyder Metric:', percentileMetric(pred_df))"
   ]
  },
  {
   "cell_type": "code",
   "execution_count": 24,
   "id": "e2f08f2b",
   "metadata": {},
   "outputs": [
    {
     "name": "stdout",
     "output_type": "stream",
     "text": [
      "RMSE: 0.9692\n",
      "The Snyder Metric: 4.060965283657917\n"
     ]
    }
   ],
   "source": [
    "algo = SVDpp(n_factors=5, n_epochs=5)\n",
    "\n",
    "algo.fit(tuner_train)\n",
    "predictions = algo.test(tuner_test)\n",
    "\n",
    "accuracy.rmse(predictions)\n",
    "\n",
    "pred_df = pd.DataFrame(data=predictions, columns=('user','movie','actualrating','predictedrating','details'))\n",
    "print('The Snyder Metric:', percentileMetric(pred_df))"
   ]
  },
  {
   "cell_type": "code",
   "execution_count": 26,
   "id": "ec935542",
   "metadata": {},
   "outputs": [
    {
     "name": "stdout",
     "output_type": "stream",
     "text": [
      "RMSE: 0.9690\n",
      "The Snyder Metric: 4.055261486343426\n"
     ]
    }
   ],
   "source": [
    "algo = SVDpp(n_factors=1, n_epochs=5)\n",
    "\n",
    "algo.fit(tuner_train)\n",
    "predictions = algo.test(tuner_test)\n",
    "\n",
    "accuracy.rmse(predictions)\n",
    "\n",
    "pred_df = pd.DataFrame(data=predictions, columns=('user','movie','actualrating','predictedrating','details'))\n",
    "print('The Snyder Metric:', percentileMetric(pred_df))"
   ]
  },
  {
   "cell_type": "code",
   "execution_count": 27,
   "id": "b4f4f2d9",
   "metadata": {},
   "outputs": [
    {
     "name": "stdout",
     "output_type": "stream",
     "text": [
      "RMSE: 0.9696\n",
      "The Snyder Metric: 4.0575783234547\n"
     ]
    }
   ],
   "source": [
    "algo = SVDpp(n_factors=6, n_epochs=5)\n",
    "\n",
    "algo.fit(tuner_train)\n",
    "predictions = algo.test(tuner_test)\n",
    "\n",
    "accuracy.rmse(predictions)\n",
    "\n",
    "pred_df = pd.DataFrame(data=predictions, columns=('user','movie','actualrating','predictedrating','details'))\n",
    "print('The Snyder Metric:', percentileMetric(pred_df))"
   ]
  },
  {
   "cell_type": "code",
   "execution_count": 28,
   "id": "a273a962",
   "metadata": {},
   "outputs": [
    {
     "name": "stdout",
     "output_type": "stream",
     "text": [
      "RMSE: 0.9694\n",
      "The Snyder Metric: 4.054838026677959\n"
     ]
    }
   ],
   "source": [
    "algo = SVDpp(n_factors=4, n_epochs=5)\n",
    "\n",
    "algo.fit(tuner_train)\n",
    "predictions = algo.test(tuner_test)\n",
    "\n",
    "accuracy.rmse(predictions)\n",
    "\n",
    "pred_df = pd.DataFrame(data=predictions, columns=('user','movie','actualrating','predictedrating','details'))\n",
    "print('The Snyder Metric:', percentileMetric(pred_df))"
   ]
  },
  {
   "cell_type": "code",
   "execution_count": 29,
   "id": "fdea5960",
   "metadata": {},
   "outputs": [
    {
     "name": "stdout",
     "output_type": "stream",
     "text": [
      "RMSE: 0.9642\n",
      "The Snyder Metric: 4.058225704001694\n"
     ]
    }
   ],
   "source": [
    "algo = SVDpp(n_factors=6, n_epochs=6)\n",
    "\n",
    "algo.fit(tuner_train)\n",
    "predictions = algo.test(tuner_test)\n",
    "\n",
    "accuracy.rmse(predictions)\n",
    "\n",
    "pred_df = pd.DataFrame(data=predictions, columns=('user','movie','actualrating','predictedrating','details'))\n",
    "print('The Snyder Metric:', percentileMetric(pred_df))"
   ]
  },
  {
   "cell_type": "code",
   "execution_count": 50,
   "id": "9199c60b",
   "metadata": {},
   "outputs": [],
   "source": [
    "reader = Reader(rating_scale=(1, 5))\n",
    "suprise_train = Dataset.load_from_df(training, reader)\n",
    "full_trainset = suprise_train.build_full_trainset()"
   ]
  },
  {
   "cell_type": "code",
   "execution_count": 51,
   "id": "5f1077b4",
   "metadata": {},
   "outputs": [
    {
     "data": {
      "text/plain": [
       "surprise.trainset.Trainset"
      ]
     },
     "execution_count": 51,
     "metadata": {},
     "output_type": "execute_result"
    }
   ],
   "source": [
    "type(full_trainset)"
   ]
  },
  {
   "cell_type": "code",
   "execution_count": 67,
   "id": "5fdcae19",
   "metadata": {},
   "outputs": [
    {
     "data": {
      "text/plain": [
       "<surprise.prediction_algorithms.matrix_factorization.SVDpp at 0x7fb9ee1e8890>"
      ]
     },
     "execution_count": 67,
     "metadata": {},
     "output_type": "execute_result"
    }
   ],
   "source": [
    "algo = SVDpp()\n",
    "algo.fit(full_trainset)"
   ]
  },
  {
   "cell_type": "code",
   "execution_count": 66,
   "id": "5d111ab7",
   "metadata": {},
   "outputs": [
    {
     "data": {
      "text/html": [
       "<div>\n",
       "<style scoped>\n",
       "    .dataframe tbody tr th:only-of-type {\n",
       "        vertical-align: middle;\n",
       "    }\n",
       "\n",
       "    .dataframe tbody tr th {\n",
       "        vertical-align: top;\n",
       "    }\n",
       "\n",
       "    .dataframe thead th {\n",
       "        text-align: right;\n",
       "    }\n",
       "</style>\n",
       "<table border=\"1\" class=\"dataframe\">\n",
       "  <thead>\n",
       "    <tr style=\"text-align: right;\">\n",
       "      <th></th>\n",
       "      <th>user</th>\n",
       "      <th>movie</th>\n",
       "      <th>predicted_rating</th>\n",
       "    </tr>\n",
       "  </thead>\n",
       "  <tbody>\n",
       "    <tr>\n",
       "      <th>0</th>\n",
       "      <td>4958</td>\n",
       "      <td>1924</td>\n",
       "      <td>0</td>\n",
       "    </tr>\n",
       "    <tr>\n",
       "      <th>1</th>\n",
       "      <td>4958</td>\n",
       "      <td>3264</td>\n",
       "      <td>0</td>\n",
       "    </tr>\n",
       "    <tr>\n",
       "      <th>2</th>\n",
       "      <td>4958</td>\n",
       "      <td>2634</td>\n",
       "      <td>0</td>\n",
       "    </tr>\n",
       "    <tr>\n",
       "      <th>3</th>\n",
       "      <td>4958</td>\n",
       "      <td>1407</td>\n",
       "      <td>0</td>\n",
       "    </tr>\n",
       "    <tr>\n",
       "      <th>4</th>\n",
       "      <td>4958</td>\n",
       "      <td>2399</td>\n",
       "      <td>0</td>\n",
       "    </tr>\n",
       "    <tr>\n",
       "      <th>...</th>\n",
       "      <td>...</td>\n",
       "      <td>...</td>\n",
       "      <td>...</td>\n",
       "    </tr>\n",
       "    <tr>\n",
       "      <th>200204</th>\n",
       "      <td>1875</td>\n",
       "      <td>3793</td>\n",
       "      <td>0</td>\n",
       "    </tr>\n",
       "    <tr>\n",
       "      <th>200205</th>\n",
       "      <td>1875</td>\n",
       "      <td>2160</td>\n",
       "      <td>0</td>\n",
       "    </tr>\n",
       "    <tr>\n",
       "      <th>200206</th>\n",
       "      <td>1875</td>\n",
       "      <td>1035</td>\n",
       "      <td>0</td>\n",
       "    </tr>\n",
       "    <tr>\n",
       "      <th>200207</th>\n",
       "      <td>1875</td>\n",
       "      <td>1580</td>\n",
       "      <td>0</td>\n",
       "    </tr>\n",
       "    <tr>\n",
       "      <th>200208</th>\n",
       "      <td>1875</td>\n",
       "      <td>589</td>\n",
       "      <td>0</td>\n",
       "    </tr>\n",
       "  </tbody>\n",
       "</table>\n",
       "<p>200209 rows × 3 columns</p>\n",
       "</div>"
      ],
      "text/plain": [
       "        user  movie  predicted_rating\n",
       "0       4958   1924                 0\n",
       "1       4958   3264                 0\n",
       "2       4958   2634                 0\n",
       "3       4958   1407                 0\n",
       "4       4958   2399                 0\n",
       "...      ...    ...               ...\n",
       "200204  1875   3793                 0\n",
       "200205  1875   2160                 0\n",
       "200206  1875   1035                 0\n",
       "200207  1875   1580                 0\n",
       "200208  1875    589                 0\n",
       "\n",
       "[200209 rows x 3 columns]"
      ]
     },
     "execution_count": 66,
     "metadata": {},
     "output_type": "execute_result"
    }
   ],
   "source": [
    "full_testset"
   ]
  },
  {
   "cell_type": "code",
   "execution_count": null,
   "id": "09c2d85c",
   "metadata": {},
   "outputs": [],
   "source": [
    "# for idx in full_testset.index:\n",
    "#     full_testset['predicted_rating'][idx] = algo.predict(str(full_testset['user'][idx]), str(full_testset['movie'][idx]))"
   ]
  },
  {
   "cell_type": "code",
   "execution_count": 73,
   "id": "50a59992",
   "metadata": {},
   "outputs": [
    {
     "data": {
      "text/plain": [
       "Prediction(uid='4958', iid='3264', r_ui=None, est=3.59047875, details={'was_impossible': False})"
      ]
     },
     "execution_count": 73,
     "metadata": {},
     "output_type": "execute_result"
    }
   ],
   "source": [
    "full_testset.loc[1, 'predicted_rating']"
   ]
  },
  {
   "cell_type": "code",
   "execution_count": 69,
   "id": "7dc958f2",
   "metadata": {},
   "outputs": [
    {
     "ename": "KeyboardInterrupt",
     "evalue": "",
     "output_type": "error",
     "traceback": [
      "\u001b[0;31m---------------------------------------------------------------------------\u001b[0m",
      "\u001b[0;31mKeyboardInterrupt\u001b[0m                         Traceback (most recent call last)",
      "\u001b[0;32m<ipython-input-69-135dc0325f3b>\u001b[0m in \u001b[0;36m<module>\u001b[0;34m\u001b[0m\n\u001b[1;32m      1\u001b[0m \u001b[0;32mfor\u001b[0m \u001b[0midx\u001b[0m \u001b[0;32min\u001b[0m \u001b[0mfull_testset\u001b[0m\u001b[0;34m.\u001b[0m\u001b[0mindex\u001b[0m\u001b[0;34m:\u001b[0m\u001b[0;34m\u001b[0m\u001b[0;34m\u001b[0m\u001b[0m\n\u001b[0;32m----> 2\u001b[0;31m     \u001b[0mfull_testset\u001b[0m\u001b[0;34m.\u001b[0m\u001b[0mloc\u001b[0m\u001b[0;34m[\u001b[0m\u001b[0midx\u001b[0m\u001b[0;34m,\u001b[0m \u001b[0;34m'predicted_rating'\u001b[0m\u001b[0;34m]\u001b[0m \u001b[0;34m=\u001b[0m \u001b[0malgo\u001b[0m\u001b[0;34m.\u001b[0m\u001b[0mpredict\u001b[0m\u001b[0;34m(\u001b[0m\u001b[0mstr\u001b[0m\u001b[0;34m(\u001b[0m\u001b[0mfull_testset\u001b[0m\u001b[0;34m[\u001b[0m\u001b[0;34m'user'\u001b[0m\u001b[0;34m]\u001b[0m\u001b[0;34m[\u001b[0m\u001b[0midx\u001b[0m\u001b[0;34m]\u001b[0m\u001b[0;34m)\u001b[0m\u001b[0;34m,\u001b[0m \u001b[0mstr\u001b[0m\u001b[0;34m(\u001b[0m\u001b[0mfull_testset\u001b[0m\u001b[0;34m[\u001b[0m\u001b[0;34m'movie'\u001b[0m\u001b[0;34m]\u001b[0m\u001b[0;34m[\u001b[0m\u001b[0midx\u001b[0m\u001b[0;34m]\u001b[0m\u001b[0;34m)\u001b[0m\u001b[0;34m)\u001b[0m\u001b[0;34m\u001b[0m\u001b[0;34m\u001b[0m\u001b[0m\n\u001b[0m",
      "\u001b[0;32m~/opt/anaconda3/lib/python3.7/site-packages/pandas/core/indexing.py\u001b[0m in \u001b[0;36m__setitem__\u001b[0;34m(self, key, value)\u001b[0m\n\u001b[1;32m    690\u001b[0m \u001b[0;34m\u001b[0m\u001b[0m\n\u001b[1;32m    691\u001b[0m         \u001b[0miloc\u001b[0m \u001b[0;34m=\u001b[0m \u001b[0mself\u001b[0m \u001b[0;32mif\u001b[0m \u001b[0mself\u001b[0m\u001b[0;34m.\u001b[0m\u001b[0mname\u001b[0m \u001b[0;34m==\u001b[0m \u001b[0;34m\"iloc\"\u001b[0m \u001b[0;32melse\u001b[0m \u001b[0mself\u001b[0m\u001b[0;34m.\u001b[0m\u001b[0mobj\u001b[0m\u001b[0;34m.\u001b[0m\u001b[0miloc\u001b[0m\u001b[0;34m\u001b[0m\u001b[0;34m\u001b[0m\u001b[0m\n\u001b[0;32m--> 692\u001b[0;31m         \u001b[0miloc\u001b[0m\u001b[0;34m.\u001b[0m\u001b[0m_setitem_with_indexer\u001b[0m\u001b[0;34m(\u001b[0m\u001b[0mindexer\u001b[0m\u001b[0;34m,\u001b[0m \u001b[0mvalue\u001b[0m\u001b[0;34m,\u001b[0m \u001b[0mself\u001b[0m\u001b[0;34m.\u001b[0m\u001b[0mname\u001b[0m\u001b[0;34m)\u001b[0m\u001b[0;34m\u001b[0m\u001b[0;34m\u001b[0m\u001b[0m\n\u001b[0m\u001b[1;32m    693\u001b[0m \u001b[0;34m\u001b[0m\u001b[0m\n\u001b[1;32m    694\u001b[0m     \u001b[0;32mdef\u001b[0m \u001b[0m_validate_key\u001b[0m\u001b[0;34m(\u001b[0m\u001b[0mself\u001b[0m\u001b[0;34m,\u001b[0m \u001b[0mkey\u001b[0m\u001b[0;34m,\u001b[0m \u001b[0maxis\u001b[0m\u001b[0;34m:\u001b[0m \u001b[0mint\u001b[0m\u001b[0;34m)\u001b[0m\u001b[0;34m:\u001b[0m\u001b[0;34m\u001b[0m\u001b[0;34m\u001b[0m\u001b[0m\n",
      "\u001b[0;32m~/opt/anaconda3/lib/python3.7/site-packages/pandas/core/indexing.py\u001b[0m in \u001b[0;36m_setitem_with_indexer\u001b[0;34m(self, indexer, value, name)\u001b[0m\n\u001b[1;32m   1633\u001b[0m         \u001b[0;32mif\u001b[0m \u001b[0mtake_split_path\u001b[0m\u001b[0;34m:\u001b[0m\u001b[0;34m\u001b[0m\u001b[0;34m\u001b[0m\u001b[0m\n\u001b[1;32m   1634\u001b[0m             \u001b[0;31m# We have to operate column-wise\u001b[0m\u001b[0;34m\u001b[0m\u001b[0;34m\u001b[0m\u001b[0;34m\u001b[0m\u001b[0m\n\u001b[0;32m-> 1635\u001b[0;31m             \u001b[0mself\u001b[0m\u001b[0;34m.\u001b[0m\u001b[0m_setitem_with_indexer_split_path\u001b[0m\u001b[0;34m(\u001b[0m\u001b[0mindexer\u001b[0m\u001b[0;34m,\u001b[0m \u001b[0mvalue\u001b[0m\u001b[0;34m,\u001b[0m \u001b[0mname\u001b[0m\u001b[0;34m)\u001b[0m\u001b[0;34m\u001b[0m\u001b[0;34m\u001b[0m\u001b[0m\n\u001b[0m\u001b[1;32m   1636\u001b[0m         \u001b[0;32melse\u001b[0m\u001b[0;34m:\u001b[0m\u001b[0;34m\u001b[0m\u001b[0;34m\u001b[0m\u001b[0m\n\u001b[1;32m   1637\u001b[0m             \u001b[0mself\u001b[0m\u001b[0;34m.\u001b[0m\u001b[0m_setitem_single_block\u001b[0m\u001b[0;34m(\u001b[0m\u001b[0mindexer\u001b[0m\u001b[0;34m,\u001b[0m \u001b[0mvalue\u001b[0m\u001b[0;34m,\u001b[0m \u001b[0mname\u001b[0m\u001b[0;34m)\u001b[0m\u001b[0;34m\u001b[0m\u001b[0;34m\u001b[0m\u001b[0m\n",
      "\u001b[0;32m~/opt/anaconda3/lib/python3.7/site-packages/pandas/core/indexing.py\u001b[0m in \u001b[0;36m_setitem_with_indexer_split_path\u001b[0;34m(self, indexer, value, name)\u001b[0m\n\u001b[1;32m   1718\u001b[0m             \u001b[0;31m# scalar value\u001b[0m\u001b[0;34m\u001b[0m\u001b[0;34m\u001b[0m\u001b[0;34m\u001b[0m\u001b[0m\n\u001b[1;32m   1719\u001b[0m             \u001b[0;32mfor\u001b[0m \u001b[0mloc\u001b[0m \u001b[0;32min\u001b[0m \u001b[0milocs\u001b[0m\u001b[0;34m:\u001b[0m\u001b[0;34m\u001b[0m\u001b[0;34m\u001b[0m\u001b[0m\n\u001b[0;32m-> 1720\u001b[0;31m                 \u001b[0mself\u001b[0m\u001b[0;34m.\u001b[0m\u001b[0m_setitem_single_column\u001b[0m\u001b[0;34m(\u001b[0m\u001b[0mloc\u001b[0m\u001b[0;34m,\u001b[0m \u001b[0mvalue\u001b[0m\u001b[0;34m,\u001b[0m \u001b[0mpi\u001b[0m\u001b[0;34m)\u001b[0m\u001b[0;34m\u001b[0m\u001b[0;34m\u001b[0m\u001b[0m\n\u001b[0m\u001b[1;32m   1721\u001b[0m \u001b[0;34m\u001b[0m\u001b[0m\n\u001b[1;32m   1722\u001b[0m     \u001b[0;32mdef\u001b[0m \u001b[0m_setitem_with_indexer_2d_value\u001b[0m\u001b[0;34m(\u001b[0m\u001b[0mself\u001b[0m\u001b[0;34m,\u001b[0m \u001b[0mindexer\u001b[0m\u001b[0;34m,\u001b[0m \u001b[0mvalue\u001b[0m\u001b[0;34m)\u001b[0m\u001b[0;34m:\u001b[0m\u001b[0;34m\u001b[0m\u001b[0;34m\u001b[0m\u001b[0m\n",
      "\u001b[0;32m~/opt/anaconda3/lib/python3.7/site-packages/pandas/core/indexing.py\u001b[0m in \u001b[0;36m_setitem_single_column\u001b[0;34m(self, loc, value, plane_indexer)\u001b[0m\n\u001b[1;32m   1815\u001b[0m \u001b[0;34m\u001b[0m\u001b[0m\n\u001b[1;32m   1816\u001b[0m         \u001b[0;31m# reset the sliced object if unique\u001b[0m\u001b[0;34m\u001b[0m\u001b[0;34m\u001b[0m\u001b[0;34m\u001b[0m\u001b[0m\n\u001b[0;32m-> 1817\u001b[0;31m         \u001b[0mself\u001b[0m\u001b[0;34m.\u001b[0m\u001b[0mobj\u001b[0m\u001b[0;34m.\u001b[0m\u001b[0m_iset_item\u001b[0m\u001b[0;34m(\u001b[0m\u001b[0mloc\u001b[0m\u001b[0;34m,\u001b[0m \u001b[0mser\u001b[0m\u001b[0;34m)\u001b[0m\u001b[0;34m\u001b[0m\u001b[0;34m\u001b[0m\u001b[0m\n\u001b[0m\u001b[1;32m   1818\u001b[0m \u001b[0;34m\u001b[0m\u001b[0m\n\u001b[1;32m   1819\u001b[0m     \u001b[0;32mdef\u001b[0m \u001b[0m_setitem_single_block\u001b[0m\u001b[0;34m(\u001b[0m\u001b[0mself\u001b[0m\u001b[0;34m,\u001b[0m \u001b[0mindexer\u001b[0m\u001b[0;34m,\u001b[0m \u001b[0mvalue\u001b[0m\u001b[0;34m,\u001b[0m \u001b[0mname\u001b[0m\u001b[0;34m:\u001b[0m \u001b[0mstr\u001b[0m\u001b[0;34m)\u001b[0m\u001b[0;34m:\u001b[0m\u001b[0;34m\u001b[0m\u001b[0;34m\u001b[0m\u001b[0m\n",
      "\u001b[0;32m~/opt/anaconda3/lib/python3.7/site-packages/pandas/core/frame.py\u001b[0m in \u001b[0;36m_iset_item\u001b[0;34m(self, loc, value)\u001b[0m\n\u001b[1;32m   3221\u001b[0m         \u001b[0;31m#  but the behavior is the same as long as we pass broadcast=False\u001b[0m\u001b[0;34m\u001b[0m\u001b[0;34m\u001b[0m\u001b[0;34m\u001b[0m\u001b[0m\n\u001b[1;32m   3222\u001b[0m         \u001b[0mvalue\u001b[0m \u001b[0;34m=\u001b[0m \u001b[0mself\u001b[0m\u001b[0;34m.\u001b[0m\u001b[0m_sanitize_column\u001b[0m\u001b[0;34m(\u001b[0m\u001b[0mloc\u001b[0m\u001b[0;34m,\u001b[0m \u001b[0mvalue\u001b[0m\u001b[0;34m,\u001b[0m \u001b[0mbroadcast\u001b[0m\u001b[0;34m=\u001b[0m\u001b[0;32mFalse\u001b[0m\u001b[0;34m)\u001b[0m\u001b[0;34m\u001b[0m\u001b[0;34m\u001b[0m\u001b[0m\n\u001b[0;32m-> 3223\u001b[0;31m         \u001b[0mNDFrame\u001b[0m\u001b[0;34m.\u001b[0m\u001b[0m_iset_item\u001b[0m\u001b[0;34m(\u001b[0m\u001b[0mself\u001b[0m\u001b[0;34m,\u001b[0m \u001b[0mloc\u001b[0m\u001b[0;34m,\u001b[0m \u001b[0mvalue\u001b[0m\u001b[0;34m)\u001b[0m\u001b[0;34m\u001b[0m\u001b[0;34m\u001b[0m\u001b[0m\n\u001b[0m\u001b[1;32m   3224\u001b[0m \u001b[0;34m\u001b[0m\u001b[0m\n\u001b[1;32m   3225\u001b[0m         \u001b[0;31m# check if we are modifying a copy\u001b[0m\u001b[0;34m\u001b[0m\u001b[0;34m\u001b[0m\u001b[0;34m\u001b[0m\u001b[0m\n",
      "\u001b[0;32m~/opt/anaconda3/lib/python3.7/site-packages/pandas/core/generic.py\u001b[0m in \u001b[0;36m_iset_item\u001b[0;34m(self, loc, value)\u001b[0m\n\u001b[1;32m   3819\u001b[0m \u001b[0;34m\u001b[0m\u001b[0m\n\u001b[1;32m   3820\u001b[0m     \u001b[0;32mdef\u001b[0m \u001b[0m_iset_item\u001b[0m\u001b[0;34m(\u001b[0m\u001b[0mself\u001b[0m\u001b[0;34m,\u001b[0m \u001b[0mloc\u001b[0m\u001b[0;34m:\u001b[0m \u001b[0mint\u001b[0m\u001b[0;34m,\u001b[0m \u001b[0mvalue\u001b[0m\u001b[0;34m)\u001b[0m \u001b[0;34m->\u001b[0m \u001b[0;32mNone\u001b[0m\u001b[0;34m:\u001b[0m\u001b[0;34m\u001b[0m\u001b[0;34m\u001b[0m\u001b[0m\n\u001b[0;32m-> 3821\u001b[0;31m         \u001b[0mself\u001b[0m\u001b[0;34m.\u001b[0m\u001b[0m_mgr\u001b[0m\u001b[0;34m.\u001b[0m\u001b[0miset\u001b[0m\u001b[0;34m(\u001b[0m\u001b[0mloc\u001b[0m\u001b[0;34m,\u001b[0m \u001b[0mvalue\u001b[0m\u001b[0;34m)\u001b[0m\u001b[0;34m\u001b[0m\u001b[0;34m\u001b[0m\u001b[0m\n\u001b[0m\u001b[1;32m   3822\u001b[0m         \u001b[0mself\u001b[0m\u001b[0;34m.\u001b[0m\u001b[0m_clear_item_cache\u001b[0m\u001b[0;34m(\u001b[0m\u001b[0;34m)\u001b[0m\u001b[0;34m\u001b[0m\u001b[0;34m\u001b[0m\u001b[0m\n\u001b[1;32m   3823\u001b[0m \u001b[0;34m\u001b[0m\u001b[0m\n",
      "\u001b[0;32m~/opt/anaconda3/lib/python3.7/site-packages/pandas/core/internals/managers.py\u001b[0m in \u001b[0;36miset\u001b[0;34m(self, loc, value)\u001b[0m\n\u001b[1;32m   1108\u001b[0m             \u001b[0mblk_locs\u001b[0m \u001b[0;34m=\u001b[0m \u001b[0mblklocs\u001b[0m\u001b[0;34m[\u001b[0m\u001b[0mval_locs\u001b[0m\u001b[0;34m.\u001b[0m\u001b[0mindexer\u001b[0m\u001b[0;34m]\u001b[0m\u001b[0;34m\u001b[0m\u001b[0;34m\u001b[0m\u001b[0m\n\u001b[1;32m   1109\u001b[0m             \u001b[0;32mif\u001b[0m \u001b[0mblk\u001b[0m\u001b[0;34m.\u001b[0m\u001b[0mshould_store\u001b[0m\u001b[0;34m(\u001b[0m\u001b[0mvalue\u001b[0m\u001b[0;34m)\u001b[0m\u001b[0;34m:\u001b[0m\u001b[0;34m\u001b[0m\u001b[0;34m\u001b[0m\u001b[0m\n\u001b[0;32m-> 1110\u001b[0;31m                 \u001b[0mblk\u001b[0m\u001b[0;34m.\u001b[0m\u001b[0mset_inplace\u001b[0m\u001b[0;34m(\u001b[0m\u001b[0mblk_locs\u001b[0m\u001b[0;34m,\u001b[0m \u001b[0mvalue_getitem\u001b[0m\u001b[0;34m(\u001b[0m\u001b[0mval_locs\u001b[0m\u001b[0;34m)\u001b[0m\u001b[0;34m)\u001b[0m\u001b[0;34m\u001b[0m\u001b[0;34m\u001b[0m\u001b[0m\n\u001b[0m\u001b[1;32m   1111\u001b[0m             \u001b[0;32melse\u001b[0m\u001b[0;34m:\u001b[0m\u001b[0;34m\u001b[0m\u001b[0;34m\u001b[0m\u001b[0m\n\u001b[1;32m   1112\u001b[0m                 \u001b[0munfit_mgr_locs\u001b[0m\u001b[0;34m.\u001b[0m\u001b[0mappend\u001b[0m\u001b[0;34m(\u001b[0m\u001b[0mblk\u001b[0m\u001b[0;34m.\u001b[0m\u001b[0mmgr_locs\u001b[0m\u001b[0;34m.\u001b[0m\u001b[0mas_array\u001b[0m\u001b[0;34m[\u001b[0m\u001b[0mblk_locs\u001b[0m\u001b[0;34m]\u001b[0m\u001b[0;34m)\u001b[0m\u001b[0;34m\u001b[0m\u001b[0;34m\u001b[0m\u001b[0m\n",
      "\u001b[0;32m~/opt/anaconda3/lib/python3.7/site-packages/pandas/core/internals/blocks.py\u001b[0m in \u001b[0;36mset_inplace\u001b[0;34m(self, locs, values)\u001b[0m\n\u001b[1;32m    361\u001b[0m         \u001b[0mcreate\u001b[0m \u001b[0ma\u001b[0m \u001b[0mnew\u001b[0m \u001b[0marray\u001b[0m \u001b[0;32mand\u001b[0m \u001b[0malways\u001b[0m \u001b[0mcreates\u001b[0m \u001b[0ma\u001b[0m \u001b[0mnew\u001b[0m \u001b[0mBlock\u001b[0m\u001b[0;34m.\u001b[0m\u001b[0;34m\u001b[0m\u001b[0;34m\u001b[0m\u001b[0m\n\u001b[1;32m    362\u001b[0m         \"\"\"\n\u001b[0;32m--> 363\u001b[0;31m         \u001b[0mself\u001b[0m\u001b[0;34m.\u001b[0m\u001b[0mvalues\u001b[0m\u001b[0;34m[\u001b[0m\u001b[0mlocs\u001b[0m\u001b[0;34m]\u001b[0m \u001b[0;34m=\u001b[0m \u001b[0mvalues\u001b[0m\u001b[0;34m\u001b[0m\u001b[0;34m\u001b[0m\u001b[0m\n\u001b[0m\u001b[1;32m    364\u001b[0m \u001b[0;34m\u001b[0m\u001b[0m\n\u001b[1;32m    365\u001b[0m     \u001b[0;32mdef\u001b[0m \u001b[0mdelete\u001b[0m\u001b[0;34m(\u001b[0m\u001b[0mself\u001b[0m\u001b[0;34m,\u001b[0m \u001b[0mloc\u001b[0m\u001b[0;34m)\u001b[0m \u001b[0;34m->\u001b[0m \u001b[0;32mNone\u001b[0m\u001b[0;34m:\u001b[0m\u001b[0;34m\u001b[0m\u001b[0;34m\u001b[0m\u001b[0m\n",
      "\u001b[0;31mKeyboardInterrupt\u001b[0m: "
     ]
    }
   ],
   "source": [
    "for idx in full_testset.index:\n",
    "    full_testset.loc[idx, 'predicted_rating'] = algo.predict(str(full_testset['user'][idx]), str(full_testset['movie'][idx]))"
   ]
  },
  {
   "cell_type": "code",
   "execution_count": 70,
   "id": "7f74b353",
   "metadata": {},
   "outputs": [
    {
     "data": {
      "text/html": [
       "<div>\n",
       "<style scoped>\n",
       "    .dataframe tbody tr th:only-of-type {\n",
       "        vertical-align: middle;\n",
       "    }\n",
       "\n",
       "    .dataframe tbody tr th {\n",
       "        vertical-align: top;\n",
       "    }\n",
       "\n",
       "    .dataframe thead th {\n",
       "        text-align: right;\n",
       "    }\n",
       "</style>\n",
       "<table border=\"1\" class=\"dataframe\">\n",
       "  <thead>\n",
       "    <tr style=\"text-align: right;\">\n",
       "      <th></th>\n",
       "      <th>user</th>\n",
       "      <th>movie</th>\n",
       "      <th>predicted_rating</th>\n",
       "    </tr>\n",
       "  </thead>\n",
       "  <tbody>\n",
       "    <tr>\n",
       "      <th>0</th>\n",
       "      <td>4958</td>\n",
       "      <td>1924</td>\n",
       "      <td>(4958, 1924, None, 3.59047875, {'was_impossibl...</td>\n",
       "    </tr>\n",
       "    <tr>\n",
       "      <th>1</th>\n",
       "      <td>4958</td>\n",
       "      <td>3264</td>\n",
       "      <td>(4958, 3264, None, 3.59047875, {'was_impossibl...</td>\n",
       "    </tr>\n",
       "    <tr>\n",
       "      <th>2</th>\n",
       "      <td>4958</td>\n",
       "      <td>2634</td>\n",
       "      <td>(4958, 2634, None, 3.59047875, {'was_impossibl...</td>\n",
       "    </tr>\n",
       "    <tr>\n",
       "      <th>3</th>\n",
       "      <td>4958</td>\n",
       "      <td>1407</td>\n",
       "      <td>(4958, 1407, None, 3.59047875, {'was_impossibl...</td>\n",
       "    </tr>\n",
       "    <tr>\n",
       "      <th>4</th>\n",
       "      <td>4958</td>\n",
       "      <td>2399</td>\n",
       "      <td>(4958, 2399, None, 3.59047875, {'was_impossibl...</td>\n",
       "    </tr>\n",
       "    <tr>\n",
       "      <th>...</th>\n",
       "      <td>...</td>\n",
       "      <td>...</td>\n",
       "      <td>...</td>\n",
       "    </tr>\n",
       "    <tr>\n",
       "      <th>200204</th>\n",
       "      <td>1875</td>\n",
       "      <td>3793</td>\n",
       "      <td>(1875, 3793, None, 3.59047875, {'was_impossibl...</td>\n",
       "    </tr>\n",
       "    <tr>\n",
       "      <th>200205</th>\n",
       "      <td>1875</td>\n",
       "      <td>2160</td>\n",
       "      <td>(1875, 2160, None, 3.59047875, {'was_impossibl...</td>\n",
       "    </tr>\n",
       "    <tr>\n",
       "      <th>200206</th>\n",
       "      <td>1875</td>\n",
       "      <td>1035</td>\n",
       "      <td>(1875, 1035, None, 3.59047875, {'was_impossibl...</td>\n",
       "    </tr>\n",
       "    <tr>\n",
       "      <th>200207</th>\n",
       "      <td>1875</td>\n",
       "      <td>1580</td>\n",
       "      <td>(1875, 1580, None, 3.59047875, {'was_impossibl...</td>\n",
       "    </tr>\n",
       "    <tr>\n",
       "      <th>200208</th>\n",
       "      <td>1875</td>\n",
       "      <td>589</td>\n",
       "      <td>(1875, 589, None, 3.59047875, {'was_impossible...</td>\n",
       "    </tr>\n",
       "  </tbody>\n",
       "</table>\n",
       "<p>200209 rows × 3 columns</p>\n",
       "</div>"
      ],
      "text/plain": [
       "        user  movie                                   predicted_rating\n",
       "0       4958   1924  (4958, 1924, None, 3.59047875, {'was_impossibl...\n",
       "1       4958   3264  (4958, 3264, None, 3.59047875, {'was_impossibl...\n",
       "2       4958   2634  (4958, 2634, None, 3.59047875, {'was_impossibl...\n",
       "3       4958   1407  (4958, 1407, None, 3.59047875, {'was_impossibl...\n",
       "4       4958   2399  (4958, 2399, None, 3.59047875, {'was_impossibl...\n",
       "...      ...    ...                                                ...\n",
       "200204  1875   3793  (1875, 3793, None, 3.59047875, {'was_impossibl...\n",
       "200205  1875   2160  (1875, 2160, None, 3.59047875, {'was_impossibl...\n",
       "200206  1875   1035  (1875, 1035, None, 3.59047875, {'was_impossibl...\n",
       "200207  1875   1580  (1875, 1580, None, 3.59047875, {'was_impossibl...\n",
       "200208  1875    589  (1875, 589, None, 3.59047875, {'was_impossible...\n",
       "\n",
       "[200209 rows x 3 columns]"
      ]
     },
     "execution_count": 70,
     "metadata": {},
     "output_type": "execute_result"
    }
   ],
   "source": [
    "full_testset"
   ]
  },
  {
   "cell_type": "code",
   "execution_count": null,
   "id": "ab4cf1e5",
   "metadata": {},
   "outputs": [],
   "source": [
    "predictions = algo.test(tuner_test)\n",
    "\n",
    "accuracy.rmse(predictions)\n",
    "\n",
    "pred_df = pd.DataFrame(data=predictions, columns=('user','movie','actualrating','predictedrating','details'))\n",
    "print('The Snyder Metric:', percentileMetric(pred_df))"
   ]
  }
 ],
 "metadata": {
  "kernelspec": {
   "display_name": "Python 3",
   "language": "python",
   "name": "python3"
  },
  "language_info": {
   "codemirror_mode": {
    "name": "ipython",
    "version": 3
   },
   "file_extension": ".py",
   "mimetype": "text/x-python",
   "name": "python",
   "nbconvert_exporter": "python",
   "pygments_lexer": "ipython3",
   "version": "3.7.7"
  }
 },
 "nbformat": 4,
 "nbformat_minor": 5
}
